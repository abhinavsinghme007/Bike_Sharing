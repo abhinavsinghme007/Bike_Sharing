{
 "cells": [
  {
   "cell_type": "code",
   "execution_count": 55,
   "id": "0b83a3ac",
   "metadata": {},
   "outputs": [],
   "source": [
    "# Importing required packages\n",
    "import numpy as np\n",
    "import pandas as pd\n",
    "import matplotlib.pyplot as plt\n",
    "import seaborn as sns\n",
    "import warnings\n",
    "warnings.filterwarnings('ignore')"
   ]
  },
  {
   "cell_type": "code",
   "execution_count": 56,
   "id": "1a21bbae",
   "metadata": {},
   "outputs": [
    {
     "data": {
      "text/html": [
       "<div>\n",
       "<style scoped>\n",
       "    .dataframe tbody tr th:only-of-type {\n",
       "        vertical-align: middle;\n",
       "    }\n",
       "\n",
       "    .dataframe tbody tr th {\n",
       "        vertical-align: top;\n",
       "    }\n",
       "\n",
       "    .dataframe thead th {\n",
       "        text-align: right;\n",
       "    }\n",
       "</style>\n",
       "<table border=\"1\" class=\"dataframe\">\n",
       "  <thead>\n",
       "    <tr style=\"text-align: right;\">\n",
       "      <th></th>\n",
       "      <th>instant</th>\n",
       "      <th>dteday</th>\n",
       "      <th>season</th>\n",
       "      <th>yr</th>\n",
       "      <th>mnth</th>\n",
       "      <th>holiday</th>\n",
       "      <th>weekday</th>\n",
       "      <th>workingday</th>\n",
       "      <th>weathersit</th>\n",
       "      <th>temp</th>\n",
       "      <th>atemp</th>\n",
       "      <th>hum</th>\n",
       "      <th>windspeed</th>\n",
       "      <th>casual</th>\n",
       "      <th>registered</th>\n",
       "      <th>cnt</th>\n",
       "    </tr>\n",
       "  </thead>\n",
       "  <tbody>\n",
       "    <tr>\n",
       "      <th>0</th>\n",
       "      <td>1</td>\n",
       "      <td>01-01-2018</td>\n",
       "      <td>1</td>\n",
       "      <td>0</td>\n",
       "      <td>1</td>\n",
       "      <td>0</td>\n",
       "      <td>1</td>\n",
       "      <td>1</td>\n",
       "      <td>2</td>\n",
       "      <td>14.110847</td>\n",
       "      <td>18.18125</td>\n",
       "      <td>80.5833</td>\n",
       "      <td>10.749882</td>\n",
       "      <td>331</td>\n",
       "      <td>654</td>\n",
       "      <td>985</td>\n",
       "    </tr>\n",
       "    <tr>\n",
       "      <th>1</th>\n",
       "      <td>2</td>\n",
       "      <td>02-01-2018</td>\n",
       "      <td>1</td>\n",
       "      <td>0</td>\n",
       "      <td>1</td>\n",
       "      <td>0</td>\n",
       "      <td>2</td>\n",
       "      <td>1</td>\n",
       "      <td>2</td>\n",
       "      <td>14.902598</td>\n",
       "      <td>17.68695</td>\n",
       "      <td>69.6087</td>\n",
       "      <td>16.652113</td>\n",
       "      <td>131</td>\n",
       "      <td>670</td>\n",
       "      <td>801</td>\n",
       "    </tr>\n",
       "    <tr>\n",
       "      <th>2</th>\n",
       "      <td>3</td>\n",
       "      <td>03-01-2018</td>\n",
       "      <td>1</td>\n",
       "      <td>0</td>\n",
       "      <td>1</td>\n",
       "      <td>0</td>\n",
       "      <td>3</td>\n",
       "      <td>1</td>\n",
       "      <td>1</td>\n",
       "      <td>8.050924</td>\n",
       "      <td>9.47025</td>\n",
       "      <td>43.7273</td>\n",
       "      <td>16.636703</td>\n",
       "      <td>120</td>\n",
       "      <td>1229</td>\n",
       "      <td>1349</td>\n",
       "    </tr>\n",
       "    <tr>\n",
       "      <th>3</th>\n",
       "      <td>4</td>\n",
       "      <td>04-01-2018</td>\n",
       "      <td>1</td>\n",
       "      <td>0</td>\n",
       "      <td>1</td>\n",
       "      <td>0</td>\n",
       "      <td>4</td>\n",
       "      <td>1</td>\n",
       "      <td>1</td>\n",
       "      <td>8.200000</td>\n",
       "      <td>10.60610</td>\n",
       "      <td>59.0435</td>\n",
       "      <td>10.739832</td>\n",
       "      <td>108</td>\n",
       "      <td>1454</td>\n",
       "      <td>1562</td>\n",
       "    </tr>\n",
       "    <tr>\n",
       "      <th>4</th>\n",
       "      <td>5</td>\n",
       "      <td>05-01-2018</td>\n",
       "      <td>1</td>\n",
       "      <td>0</td>\n",
       "      <td>1</td>\n",
       "      <td>0</td>\n",
       "      <td>5</td>\n",
       "      <td>1</td>\n",
       "      <td>1</td>\n",
       "      <td>9.305237</td>\n",
       "      <td>11.46350</td>\n",
       "      <td>43.6957</td>\n",
       "      <td>12.522300</td>\n",
       "      <td>82</td>\n",
       "      <td>1518</td>\n",
       "      <td>1600</td>\n",
       "    </tr>\n",
       "  </tbody>\n",
       "</table>\n",
       "</div>"
      ],
      "text/plain": [
       "   instant      dteday  season  yr  mnth  holiday  weekday  workingday  \\\n",
       "0        1  01-01-2018       1   0     1        0        1           1   \n",
       "1        2  02-01-2018       1   0     1        0        2           1   \n",
       "2        3  03-01-2018       1   0     1        0        3           1   \n",
       "3        4  04-01-2018       1   0     1        0        4           1   \n",
       "4        5  05-01-2018       1   0     1        0        5           1   \n",
       "\n",
       "   weathersit       temp     atemp      hum  windspeed  casual  registered  \\\n",
       "0           2  14.110847  18.18125  80.5833  10.749882     331         654   \n",
       "1           2  14.902598  17.68695  69.6087  16.652113     131         670   \n",
       "2           1   8.050924   9.47025  43.7273  16.636703     120        1229   \n",
       "3           1   8.200000  10.60610  59.0435  10.739832     108        1454   \n",
       "4           1   9.305237  11.46350  43.6957  12.522300      82        1518   \n",
       "\n",
       "    cnt  \n",
       "0   985  \n",
       "1   801  \n",
       "2  1349  \n",
       "3  1562  \n",
       "4  1600  "
      ]
     },
     "execution_count": 56,
     "metadata": {},
     "output_type": "execute_result"
    }
   ],
   "source": [
    "# Reading dataset day.csv\n",
    "bike = pd.read_csv(r'C:\\Users\\abhin\\Documents\\Updrad\\bikeSharing\\day.csv')\n",
    "bike.head()"
   ]
  },
  {
   "cell_type": "markdown",
   "id": "25249b98",
   "metadata": {},
   "source": [
    "# Ananlysing DATA"
   ]
  },
  {
   "cell_type": "code",
   "execution_count": 57,
   "id": "6f583b5f",
   "metadata": {},
   "outputs": [
    {
     "data": {
      "text/plain": [
       "(730, 16)"
      ]
     },
     "execution_count": 57,
     "metadata": {},
     "output_type": "execute_result"
    }
   ],
   "source": [
    "bike.shape"
   ]
  },
  {
   "cell_type": "code",
   "execution_count": 58,
   "id": "d25a6f14",
   "metadata": {},
   "outputs": [
    {
     "name": "stdout",
     "output_type": "stream",
     "text": [
      "<class 'pandas.core.frame.DataFrame'>\n",
      "RangeIndex: 730 entries, 0 to 729\n",
      "Data columns (total 16 columns):\n",
      " #   Column      Non-Null Count  Dtype  \n",
      "---  ------      --------------  -----  \n",
      " 0   instant     730 non-null    int64  \n",
      " 1   dteday      730 non-null    object \n",
      " 2   season      730 non-null    int64  \n",
      " 3   yr          730 non-null    int64  \n",
      " 4   mnth        730 non-null    int64  \n",
      " 5   holiday     730 non-null    int64  \n",
      " 6   weekday     730 non-null    int64  \n",
      " 7   workingday  730 non-null    int64  \n",
      " 8   weathersit  730 non-null    int64  \n",
      " 9   temp        730 non-null    float64\n",
      " 10  atemp       730 non-null    float64\n",
      " 11  hum         730 non-null    float64\n",
      " 12  windspeed   730 non-null    float64\n",
      " 13  casual      730 non-null    int64  \n",
      " 14  registered  730 non-null    int64  \n",
      " 15  cnt         730 non-null    int64  \n",
      "dtypes: float64(4), int64(11), object(1)\n",
      "memory usage: 91.4+ KB\n"
     ]
    }
   ],
   "source": [
    "bike.info()"
   ]
  },
  {
   "cell_type": "code",
   "execution_count": 59,
   "id": "2ba8a954",
   "metadata": {},
   "outputs": [
    {
     "data": {
      "text/html": [
       "<div>\n",
       "<style scoped>\n",
       "    .dataframe tbody tr th:only-of-type {\n",
       "        vertical-align: middle;\n",
       "    }\n",
       "\n",
       "    .dataframe tbody tr th {\n",
       "        vertical-align: top;\n",
       "    }\n",
       "\n",
       "    .dataframe thead th {\n",
       "        text-align: right;\n",
       "    }\n",
       "</style>\n",
       "<table border=\"1\" class=\"dataframe\">\n",
       "  <thead>\n",
       "    <tr style=\"text-align: right;\">\n",
       "      <th></th>\n",
       "      <th>instant</th>\n",
       "      <th>season</th>\n",
       "      <th>yr</th>\n",
       "      <th>mnth</th>\n",
       "      <th>holiday</th>\n",
       "      <th>weekday</th>\n",
       "      <th>workingday</th>\n",
       "      <th>weathersit</th>\n",
       "      <th>temp</th>\n",
       "      <th>atemp</th>\n",
       "      <th>hum</th>\n",
       "      <th>windspeed</th>\n",
       "      <th>casual</th>\n",
       "      <th>registered</th>\n",
       "      <th>cnt</th>\n",
       "    </tr>\n",
       "  </thead>\n",
       "  <tbody>\n",
       "    <tr>\n",
       "      <th>count</th>\n",
       "      <td>730.000000</td>\n",
       "      <td>730.000000</td>\n",
       "      <td>730.000000</td>\n",
       "      <td>730.000000</td>\n",
       "      <td>730.000000</td>\n",
       "      <td>730.000000</td>\n",
       "      <td>730.000000</td>\n",
       "      <td>730.000000</td>\n",
       "      <td>730.000000</td>\n",
       "      <td>730.000000</td>\n",
       "      <td>730.000000</td>\n",
       "      <td>730.000000</td>\n",
       "      <td>730.000000</td>\n",
       "      <td>730.000000</td>\n",
       "      <td>730.000000</td>\n",
       "    </tr>\n",
       "    <tr>\n",
       "      <th>mean</th>\n",
       "      <td>365.500000</td>\n",
       "      <td>2.498630</td>\n",
       "      <td>0.500000</td>\n",
       "      <td>6.526027</td>\n",
       "      <td>0.028767</td>\n",
       "      <td>2.995890</td>\n",
       "      <td>0.690411</td>\n",
       "      <td>1.394521</td>\n",
       "      <td>20.319259</td>\n",
       "      <td>23.726322</td>\n",
       "      <td>62.765175</td>\n",
       "      <td>12.763620</td>\n",
       "      <td>849.249315</td>\n",
       "      <td>3658.757534</td>\n",
       "      <td>4508.006849</td>\n",
       "    </tr>\n",
       "    <tr>\n",
       "      <th>std</th>\n",
       "      <td>210.877136</td>\n",
       "      <td>1.110184</td>\n",
       "      <td>0.500343</td>\n",
       "      <td>3.450215</td>\n",
       "      <td>0.167266</td>\n",
       "      <td>2.000339</td>\n",
       "      <td>0.462641</td>\n",
       "      <td>0.544807</td>\n",
       "      <td>7.506729</td>\n",
       "      <td>8.150308</td>\n",
       "      <td>14.237589</td>\n",
       "      <td>5.195841</td>\n",
       "      <td>686.479875</td>\n",
       "      <td>1559.758728</td>\n",
       "      <td>1936.011647</td>\n",
       "    </tr>\n",
       "    <tr>\n",
       "      <th>min</th>\n",
       "      <td>1.000000</td>\n",
       "      <td>1.000000</td>\n",
       "      <td>0.000000</td>\n",
       "      <td>1.000000</td>\n",
       "      <td>0.000000</td>\n",
       "      <td>0.000000</td>\n",
       "      <td>0.000000</td>\n",
       "      <td>1.000000</td>\n",
       "      <td>2.424346</td>\n",
       "      <td>3.953480</td>\n",
       "      <td>0.000000</td>\n",
       "      <td>1.500244</td>\n",
       "      <td>2.000000</td>\n",
       "      <td>20.000000</td>\n",
       "      <td>22.000000</td>\n",
       "    </tr>\n",
       "    <tr>\n",
       "      <th>25%</th>\n",
       "      <td>183.250000</td>\n",
       "      <td>2.000000</td>\n",
       "      <td>0.000000</td>\n",
       "      <td>4.000000</td>\n",
       "      <td>0.000000</td>\n",
       "      <td>1.000000</td>\n",
       "      <td>0.000000</td>\n",
       "      <td>1.000000</td>\n",
       "      <td>13.811885</td>\n",
       "      <td>16.889713</td>\n",
       "      <td>52.000000</td>\n",
       "      <td>9.041650</td>\n",
       "      <td>316.250000</td>\n",
       "      <td>2502.250000</td>\n",
       "      <td>3169.750000</td>\n",
       "    </tr>\n",
       "    <tr>\n",
       "      <th>50%</th>\n",
       "      <td>365.500000</td>\n",
       "      <td>3.000000</td>\n",
       "      <td>0.500000</td>\n",
       "      <td>7.000000</td>\n",
       "      <td>0.000000</td>\n",
       "      <td>3.000000</td>\n",
       "      <td>1.000000</td>\n",
       "      <td>1.000000</td>\n",
       "      <td>20.465826</td>\n",
       "      <td>24.368225</td>\n",
       "      <td>62.625000</td>\n",
       "      <td>12.125325</td>\n",
       "      <td>717.000000</td>\n",
       "      <td>3664.500000</td>\n",
       "      <td>4548.500000</td>\n",
       "    </tr>\n",
       "    <tr>\n",
       "      <th>75%</th>\n",
       "      <td>547.750000</td>\n",
       "      <td>3.000000</td>\n",
       "      <td>1.000000</td>\n",
       "      <td>10.000000</td>\n",
       "      <td>0.000000</td>\n",
       "      <td>5.000000</td>\n",
       "      <td>1.000000</td>\n",
       "      <td>2.000000</td>\n",
       "      <td>26.880615</td>\n",
       "      <td>30.445775</td>\n",
       "      <td>72.989575</td>\n",
       "      <td>15.625589</td>\n",
       "      <td>1096.500000</td>\n",
       "      <td>4783.250000</td>\n",
       "      <td>5966.000000</td>\n",
       "    </tr>\n",
       "    <tr>\n",
       "      <th>max</th>\n",
       "      <td>730.000000</td>\n",
       "      <td>4.000000</td>\n",
       "      <td>1.000000</td>\n",
       "      <td>12.000000</td>\n",
       "      <td>1.000000</td>\n",
       "      <td>6.000000</td>\n",
       "      <td>1.000000</td>\n",
       "      <td>3.000000</td>\n",
       "      <td>35.328347</td>\n",
       "      <td>42.044800</td>\n",
       "      <td>97.250000</td>\n",
       "      <td>34.000021</td>\n",
       "      <td>3410.000000</td>\n",
       "      <td>6946.000000</td>\n",
       "      <td>8714.000000</td>\n",
       "    </tr>\n",
       "  </tbody>\n",
       "</table>\n",
       "</div>"
      ],
      "text/plain": [
       "          instant      season          yr        mnth     holiday     weekday  \\\n",
       "count  730.000000  730.000000  730.000000  730.000000  730.000000  730.000000   \n",
       "mean   365.500000    2.498630    0.500000    6.526027    0.028767    2.995890   \n",
       "std    210.877136    1.110184    0.500343    3.450215    0.167266    2.000339   \n",
       "min      1.000000    1.000000    0.000000    1.000000    0.000000    0.000000   \n",
       "25%    183.250000    2.000000    0.000000    4.000000    0.000000    1.000000   \n",
       "50%    365.500000    3.000000    0.500000    7.000000    0.000000    3.000000   \n",
       "75%    547.750000    3.000000    1.000000   10.000000    0.000000    5.000000   \n",
       "max    730.000000    4.000000    1.000000   12.000000    1.000000    6.000000   \n",
       "\n",
       "       workingday  weathersit        temp       atemp         hum   windspeed  \\\n",
       "count  730.000000  730.000000  730.000000  730.000000  730.000000  730.000000   \n",
       "mean     0.690411    1.394521   20.319259   23.726322   62.765175   12.763620   \n",
       "std      0.462641    0.544807    7.506729    8.150308   14.237589    5.195841   \n",
       "min      0.000000    1.000000    2.424346    3.953480    0.000000    1.500244   \n",
       "25%      0.000000    1.000000   13.811885   16.889713   52.000000    9.041650   \n",
       "50%      1.000000    1.000000   20.465826   24.368225   62.625000   12.125325   \n",
       "75%      1.000000    2.000000   26.880615   30.445775   72.989575   15.625589   \n",
       "max      1.000000    3.000000   35.328347   42.044800   97.250000   34.000021   \n",
       "\n",
       "            casual   registered          cnt  \n",
       "count   730.000000   730.000000   730.000000  \n",
       "mean    849.249315  3658.757534  4508.006849  \n",
       "std     686.479875  1559.758728  1936.011647  \n",
       "min       2.000000    20.000000    22.000000  \n",
       "25%     316.250000  2502.250000  3169.750000  \n",
       "50%     717.000000  3664.500000  4548.500000  \n",
       "75%    1096.500000  4783.250000  5966.000000  \n",
       "max    3410.000000  6946.000000  8714.000000  "
      ]
     },
     "execution_count": 59,
     "metadata": {},
     "output_type": "execute_result"
    }
   ],
   "source": [
    "bike.describe()"
   ]
  },
  {
   "cell_type": "markdown",
   "id": "219f34a3",
   "metadata": {},
   "source": [
    "# Cleaning Dataset"
   ]
  },
  {
   "cell_type": "markdown",
   "id": "7665cd2c",
   "metadata": {},
   "source": [
    "#### Droping columns that are not useful for analysis : instant , dteday , atemp , casual and registered "
   ]
  },
  {
   "cell_type": "code",
   "execution_count": 60,
   "id": "ba0e4617",
   "metadata": {},
   "outputs": [],
   "source": [
    "bike.drop(['instant'], axis = 1, inplace = True)\n",
    "\n",
    "bike.drop(['dteday'], axis = 1, inplace = True)\n",
    "\n",
    "bike.drop(['atemp'], axis = 1, inplace = True)\n",
    "\n",
    "bike.drop(['casual'], axis = 1, inplace = True)\n",
    "\n",
    "bike.drop(['registered'], axis = 1, inplace = True)"
   ]
  },
  {
   "cell_type": "code",
   "execution_count": 61,
   "id": "1f96d8df",
   "metadata": {},
   "outputs": [
    {
     "data": {
      "text/html": [
       "<div>\n",
       "<style scoped>\n",
       "    .dataframe tbody tr th:only-of-type {\n",
       "        vertical-align: middle;\n",
       "    }\n",
       "\n",
       "    .dataframe tbody tr th {\n",
       "        vertical-align: top;\n",
       "    }\n",
       "\n",
       "    .dataframe thead th {\n",
       "        text-align: right;\n",
       "    }\n",
       "</style>\n",
       "<table border=\"1\" class=\"dataframe\">\n",
       "  <thead>\n",
       "    <tr style=\"text-align: right;\">\n",
       "      <th></th>\n",
       "      <th>season</th>\n",
       "      <th>yr</th>\n",
       "      <th>mnth</th>\n",
       "      <th>holiday</th>\n",
       "      <th>weekday</th>\n",
       "      <th>workingday</th>\n",
       "      <th>weathersit</th>\n",
       "      <th>temp</th>\n",
       "      <th>hum</th>\n",
       "      <th>windspeed</th>\n",
       "      <th>cnt</th>\n",
       "    </tr>\n",
       "  </thead>\n",
       "  <tbody>\n",
       "    <tr>\n",
       "      <th>0</th>\n",
       "      <td>1</td>\n",
       "      <td>0</td>\n",
       "      <td>1</td>\n",
       "      <td>0</td>\n",
       "      <td>1</td>\n",
       "      <td>1</td>\n",
       "      <td>2</td>\n",
       "      <td>14.110847</td>\n",
       "      <td>80.5833</td>\n",
       "      <td>10.749882</td>\n",
       "      <td>985</td>\n",
       "    </tr>\n",
       "    <tr>\n",
       "      <th>1</th>\n",
       "      <td>1</td>\n",
       "      <td>0</td>\n",
       "      <td>1</td>\n",
       "      <td>0</td>\n",
       "      <td>2</td>\n",
       "      <td>1</td>\n",
       "      <td>2</td>\n",
       "      <td>14.902598</td>\n",
       "      <td>69.6087</td>\n",
       "      <td>16.652113</td>\n",
       "      <td>801</td>\n",
       "    </tr>\n",
       "    <tr>\n",
       "      <th>2</th>\n",
       "      <td>1</td>\n",
       "      <td>0</td>\n",
       "      <td>1</td>\n",
       "      <td>0</td>\n",
       "      <td>3</td>\n",
       "      <td>1</td>\n",
       "      <td>1</td>\n",
       "      <td>8.050924</td>\n",
       "      <td>43.7273</td>\n",
       "      <td>16.636703</td>\n",
       "      <td>1349</td>\n",
       "    </tr>\n",
       "    <tr>\n",
       "      <th>3</th>\n",
       "      <td>1</td>\n",
       "      <td>0</td>\n",
       "      <td>1</td>\n",
       "      <td>0</td>\n",
       "      <td>4</td>\n",
       "      <td>1</td>\n",
       "      <td>1</td>\n",
       "      <td>8.200000</td>\n",
       "      <td>59.0435</td>\n",
       "      <td>10.739832</td>\n",
       "      <td>1562</td>\n",
       "    </tr>\n",
       "    <tr>\n",
       "      <th>4</th>\n",
       "      <td>1</td>\n",
       "      <td>0</td>\n",
       "      <td>1</td>\n",
       "      <td>0</td>\n",
       "      <td>5</td>\n",
       "      <td>1</td>\n",
       "      <td>1</td>\n",
       "      <td>9.305237</td>\n",
       "      <td>43.6957</td>\n",
       "      <td>12.522300</td>\n",
       "      <td>1600</td>\n",
       "    </tr>\n",
       "  </tbody>\n",
       "</table>\n",
       "</div>"
      ],
      "text/plain": [
       "   season  yr  mnth  holiday  weekday  workingday  weathersit       temp  \\\n",
       "0       1   0     1        0        1           1           2  14.110847   \n",
       "1       1   0     1        0        2           1           2  14.902598   \n",
       "2       1   0     1        0        3           1           1   8.050924   \n",
       "3       1   0     1        0        4           1           1   8.200000   \n",
       "4       1   0     1        0        5           1           1   9.305237   \n",
       "\n",
       "       hum  windspeed   cnt  \n",
       "0  80.5833  10.749882   985  \n",
       "1  69.6087  16.652113   801  \n",
       "2  43.7273  16.636703  1349  \n",
       "3  59.0435  10.739832  1562  \n",
       "4  43.6957  12.522300  1600  "
      ]
     },
     "execution_count": 61,
     "metadata": {},
     "output_type": "execute_result"
    }
   ],
   "source": [
    "bike.head()"
   ]
  },
  {
   "cell_type": "markdown",
   "id": "ab0b36e2",
   "metadata": {},
   "source": [
    "#### Checking missing values"
   ]
  },
  {
   "cell_type": "code",
   "execution_count": 62,
   "id": "cd1cbaae",
   "metadata": {},
   "outputs": [
    {
     "data": {
      "text/plain": [
       "season        0\n",
       "yr            0\n",
       "mnth          0\n",
       "holiday       0\n",
       "weekday       0\n",
       "workingday    0\n",
       "weathersit    0\n",
       "temp          0\n",
       "hum           0\n",
       "windspeed     0\n",
       "cnt           0\n",
       "dtype: int64"
      ]
     },
     "execution_count": 62,
     "metadata": {},
     "output_type": "execute_result"
    }
   ],
   "source": [
    "bike.isnull().sum()"
   ]
  },
  {
   "cell_type": "markdown",
   "id": "a71e1534",
   "metadata": {},
   "source": [
    "###### Observation : No Missing values found"
   ]
  },
  {
   "cell_type": "markdown",
   "id": "77c729d7",
   "metadata": {},
   "source": [
    "#### Checking outliers in Continues data Columns which are : temperature (temp) , humidity (hum) , windspeed"
   ]
  },
  {
   "cell_type": "code",
   "execution_count": 63,
   "id": "fa28039f",
   "metadata": {},
   "outputs": [
    {
     "data": {
      "image/png": "[encoded data removed]",
      "text/plain": [
       "<Figure size 432x288 with 1 Axes>"
      ]
     },
     "metadata": {
      "needs_background": "light"
     },
     "output_type": "display_data"
    }
   ],
   "source": [
    "sns.boxplot(bike['temp'])\n",
    "plt.show()"
   ]
  },
  {
   "cell_type": "code",
   "execution_count": 64,
   "id": "a7938999",
   "metadata": {},
   "outputs": [
    {
     "data": {
      "image/png": "[encoded data removed]",
      "text/plain": [
       "<Figure size 432x288 with 1 Axes>"
      ]
     },
     "metadata": {
      "needs_background": "light"
     },
     "output_type": "display_data"
    }
   ],
   "source": [
    "sns.boxplot(bike['hum'])\n",
    "plt.show()"
   ]
  },
  {
   "cell_type": "code",
   "execution_count": 65,
   "id": "7aa9e578",
   "metadata": {},
   "outputs": [
    {
     "data": {
      "image/png": "[encoded data removed]",
      "text/plain": [
       "<Figure size 432x288 with 1 Axes>"
      ]
     },
     "metadata": {
      "needs_background": "light"
     },
     "output_type": "display_data"
    }
   ],
   "source": [
    "sns.boxplot(bike['windspeed'])\n",
    "plt.show()"
   ]
  },
  {
   "cell_type": "markdown",
   "id": "d6e56efb",
   "metadata": {},
   "source": [
    "###### Observation : As you can see outliers found are not so high such that it will affect the observations thus no need of imputation"
   ]
  },
  {
   "cell_type": "markdown",
   "id": "0bd32851",
   "metadata": {},
   "source": [
    "# Exploratory Data Analysis"
   ]
  },
  {
   "cell_type": "code",
   "execution_count": 66,
   "id": "250d5016",
   "metadata": {},
   "outputs": [
    {
     "data": {
      "text/html": [
       "<div>\n",
       "<style scoped>\n",
       "    .dataframe tbody tr th:only-of-type {\n",
       "        vertical-align: middle;\n",
       "    }\n",
       "\n",
       "    .dataframe tbody tr th {\n",
       "        vertical-align: top;\n",
       "    }\n",
       "\n",
       "    .dataframe thead th {\n",
       "        text-align: right;\n",
       "    }\n",
       "</style>\n",
       "<table border=\"1\" class=\"dataframe\">\n",
       "  <thead>\n",
       "    <tr style=\"text-align: right;\">\n",
       "      <th></th>\n",
       "      <th>season</th>\n",
       "      <th>yr</th>\n",
       "      <th>mnth</th>\n",
       "      <th>holiday</th>\n",
       "      <th>weekday</th>\n",
       "      <th>workingday</th>\n",
       "      <th>weathersit</th>\n",
       "      <th>temp</th>\n",
       "      <th>hum</th>\n",
       "      <th>windspeed</th>\n",
       "      <th>cnt</th>\n",
       "    </tr>\n",
       "  </thead>\n",
       "  <tbody>\n",
       "    <tr>\n",
       "      <th>0</th>\n",
       "      <td>1</td>\n",
       "      <td>0</td>\n",
       "      <td>1</td>\n",
       "      <td>0</td>\n",
       "      <td>1</td>\n",
       "      <td>1</td>\n",
       "      <td>2</td>\n",
       "      <td>14.110847</td>\n",
       "      <td>80.5833</td>\n",
       "      <td>10.749882</td>\n",
       "      <td>985</td>\n",
       "    </tr>\n",
       "    <tr>\n",
       "      <th>1</th>\n",
       "      <td>1</td>\n",
       "      <td>0</td>\n",
       "      <td>1</td>\n",
       "      <td>0</td>\n",
       "      <td>2</td>\n",
       "      <td>1</td>\n",
       "      <td>2</td>\n",
       "      <td>14.902598</td>\n",
       "      <td>69.6087</td>\n",
       "      <td>16.652113</td>\n",
       "      <td>801</td>\n",
       "    </tr>\n",
       "    <tr>\n",
       "      <th>2</th>\n",
       "      <td>1</td>\n",
       "      <td>0</td>\n",
       "      <td>1</td>\n",
       "      <td>0</td>\n",
       "      <td>3</td>\n",
       "      <td>1</td>\n",
       "      <td>1</td>\n",
       "      <td>8.050924</td>\n",
       "      <td>43.7273</td>\n",
       "      <td>16.636703</td>\n",
       "      <td>1349</td>\n",
       "    </tr>\n",
       "    <tr>\n",
       "      <th>3</th>\n",
       "      <td>1</td>\n",
       "      <td>0</td>\n",
       "      <td>1</td>\n",
       "      <td>0</td>\n",
       "      <td>4</td>\n",
       "      <td>1</td>\n",
       "      <td>1</td>\n",
       "      <td>8.200000</td>\n",
       "      <td>59.0435</td>\n",
       "      <td>10.739832</td>\n",
       "      <td>1562</td>\n",
       "    </tr>\n",
       "    <tr>\n",
       "      <th>4</th>\n",
       "      <td>1</td>\n",
       "      <td>0</td>\n",
       "      <td>1</td>\n",
       "      <td>0</td>\n",
       "      <td>5</td>\n",
       "      <td>1</td>\n",
       "      <td>1</td>\n",
       "      <td>9.305237</td>\n",
       "      <td>43.6957</td>\n",
       "      <td>12.522300</td>\n",
       "      <td>1600</td>\n",
       "    </tr>\n",
       "  </tbody>\n",
       "</table>\n",
       "</div>"
      ],
      "text/plain": [
       "   season  yr  mnth  holiday  weekday  workingday  weathersit       temp  \\\n",
       "0       1   0     1        0        1           1           2  14.110847   \n",
       "1       1   0     1        0        2           1           2  14.902598   \n",
       "2       1   0     1        0        3           1           1   8.050924   \n",
       "3       1   0     1        0        4           1           1   8.200000   \n",
       "4       1   0     1        0        5           1           1   9.305237   \n",
       "\n",
       "       hum  windspeed   cnt  \n",
       "0  80.5833  10.749882   985  \n",
       "1  69.6087  16.652113   801  \n",
       "2  43.7273  16.636703  1349  \n",
       "3  59.0435  10.739832  1562  \n",
       "4  43.6957  12.522300  1600  "
      ]
     },
     "execution_count": 66,
     "metadata": {},
     "output_type": "execute_result"
    }
   ],
   "source": [
    "bike.head()"
   ]
  },
  {
   "cell_type": "markdown",
   "id": "a5fda4b8",
   "metadata": {},
   "source": [
    "#### Converting season , mnth , weekday , weathersit from Binary to Categorical values"
   ]
  },
  {
   "cell_type": "code",
   "execution_count": 67,
   "id": "ab2b4dce",
   "metadata": {},
   "outputs": [],
   "source": [
    "bike.season.replace({1:\"spring\", 2:\"summer\", 3:\"fall\", 4:\"winter\"},inplace = True)\n",
    "\n",
    "bike.mnth = bike.mnth.replace({1: 'jan',2: 'feb',3: 'mar',4: 'apr',5: 'may',\n",
    "                                         6: 'jun',7: 'jul',8: 'aug',9: 'sept',10: 'oct',\n",
    "                                         11: 'nov',12: 'dec'})\n",
    "\n",
    "bike.weathersit.replace({1:'clear',2:'average',3:'bad',4:'extreme'},inplace = True)\n",
    "\n",
    "bike.weekday = bike.weekday.replace({0: 'sun',1: 'mon',2: 'tue',3: 'wed',4: 'thu',5: 'fri',6: 'sat'})"
   ]
  },
  {
   "cell_type": "code",
   "execution_count": 68,
   "id": "9c31dff0",
   "metadata": {},
   "outputs": [
    {
     "data": {
      "text/html": [
       "<div>\n",
       "<style scoped>\n",
       "    .dataframe tbody tr th:only-of-type {\n",
       "        vertical-align: middle;\n",
       "    }\n",
       "\n",
       "    .dataframe tbody tr th {\n",
       "        vertical-align: top;\n",
       "    }\n",
       "\n",
       "    .dataframe thead th {\n",
       "        text-align: right;\n",
       "    }\n",
       "</style>\n",
       "<table border=\"1\" class=\"dataframe\">\n",
       "  <thead>\n",
       "    <tr style=\"text-align: right;\">\n",
       "      <th></th>\n",
       "      <th>season</th>\n",
       "      <th>yr</th>\n",
       "      <th>mnth</th>\n",
       "      <th>holiday</th>\n",
       "      <th>weekday</th>\n",
       "      <th>workingday</th>\n",
       "      <th>weathersit</th>\n",
       "      <th>temp</th>\n",
       "      <th>hum</th>\n",
       "      <th>windspeed</th>\n",
       "      <th>cnt</th>\n",
       "    </tr>\n",
       "  </thead>\n",
       "  <tbody>\n",
       "    <tr>\n",
       "      <th>0</th>\n",
       "      <td>spring</td>\n",
       "      <td>0</td>\n",
       "      <td>jan</td>\n",
       "      <td>0</td>\n",
       "      <td>mon</td>\n",
       "      <td>1</td>\n",
       "      <td>average</td>\n",
       "      <td>14.110847</td>\n",
       "      <td>80.5833</td>\n",
       "      <td>10.749882</td>\n",
       "      <td>985</td>\n",
       "    </tr>\n",
       "    <tr>\n",
       "      <th>1</th>\n",
       "      <td>spring</td>\n",
       "      <td>0</td>\n",
       "      <td>jan</td>\n",
       "      <td>0</td>\n",
       "      <td>tue</td>\n",
       "      <td>1</td>\n",
       "      <td>average</td>\n",
       "      <td>14.902598</td>\n",
       "      <td>69.6087</td>\n",
       "      <td>16.652113</td>\n",
       "      <td>801</td>\n",
       "    </tr>\n",
       "    <tr>\n",
       "      <th>2</th>\n",
       "      <td>spring</td>\n",
       "      <td>0</td>\n",
       "      <td>jan</td>\n",
       "      <td>0</td>\n",
       "      <td>wed</td>\n",
       "      <td>1</td>\n",
       "      <td>clear</td>\n",
       "      <td>8.050924</td>\n",
       "      <td>43.7273</td>\n",
       "      <td>16.636703</td>\n",
       "      <td>1349</td>\n",
       "    </tr>\n",
       "    <tr>\n",
       "      <th>3</th>\n",
       "      <td>spring</td>\n",
       "      <td>0</td>\n",
       "      <td>jan</td>\n",
       "      <td>0</td>\n",
       "      <td>thu</td>\n",
       "      <td>1</td>\n",
       "      <td>clear</td>\n",
       "      <td>8.200000</td>\n",
       "      <td>59.0435</td>\n",
       "      <td>10.739832</td>\n",
       "      <td>1562</td>\n",
       "    </tr>\n",
       "    <tr>\n",
       "      <th>4</th>\n",
       "      <td>spring</td>\n",
       "      <td>0</td>\n",
       "      <td>jan</td>\n",
       "      <td>0</td>\n",
       "      <td>fri</td>\n",
       "      <td>1</td>\n",
       "      <td>clear</td>\n",
       "      <td>9.305237</td>\n",
       "      <td>43.6957</td>\n",
       "      <td>12.522300</td>\n",
       "      <td>1600</td>\n",
       "    </tr>\n",
       "  </tbody>\n",
       "</table>\n",
       "</div>"
      ],
      "text/plain": [
       "   season  yr mnth  holiday weekday  workingday weathersit       temp  \\\n",
       "0  spring   0  jan        0     mon           1    average  14.110847   \n",
       "1  spring   0  jan        0     tue           1    average  14.902598   \n",
       "2  spring   0  jan        0     wed           1      clear   8.050924   \n",
       "3  spring   0  jan        0     thu           1      clear   8.200000   \n",
       "4  spring   0  jan        0     fri           1      clear   9.305237   \n",
       "\n",
       "       hum  windspeed   cnt  \n",
       "0  80.5833  10.749882   985  \n",
       "1  69.6087  16.652113   801  \n",
       "2  43.7273  16.636703  1349  \n",
       "3  59.0435  10.739832  1562  \n",
       "4  43.6957  12.522300  1600  "
      ]
     },
     "execution_count": 68,
     "metadata": {},
     "output_type": "execute_result"
    }
   ],
   "source": [
    "bike.head()"
   ]
  },
  {
   "cell_type": "markdown",
   "id": "88e84c75",
   "metadata": {},
   "source": [
    "#### Checking continuous variables relationship with each other"
   ]
  },
  {
   "cell_type": "code",
   "execution_count": 69,
   "id": "ad4b12de",
   "metadata": {},
   "outputs": [
    {
     "data": {
      "image/png": "[encoded data removed]",
      "text/plain": [
       "<Figure size 432x288 with 2 Axes>"
      ]
     },
     "metadata": {
      "needs_background": "light"
     },
     "output_type": "display_data"
    }
   ],
   "source": [
    "sns.heatmap(bike[['temp','hum','windspeed','cnt']].corr())\n",
    "plt.show()"
   ]
  },
  {
   "cell_type": "markdown",
   "id": "7ead7664",
   "metadata": {},
   "source": [
    "#### Checking numerical variables relationship with each other"
   ]
  },
  {
   "cell_type": "code",
   "execution_count": 70,
   "id": "53efb26c",
   "metadata": {},
   "outputs": [
    {
     "data": {
      "image/png": "[encoded data removed]",
      "text/plain": [
       "<Figure size 432x288 with 2 Axes>"
      ]
     },
     "metadata": {
      "needs_background": "light"
     },
     "output_type": "display_data"
    }
   ],
   "source": [
    "cor=bike.corr()\n",
    "sns.heatmap(cor, annot = True)\n",
    "plt.show()"
   ]
  },
  {
   "cell_type": "markdown",
   "id": "76f79f97",
   "metadata": {},
   "source": [
    "#### Checking Categorical variables relationship with Target Variable that is \"cnt\""
   ]
  },
  {
   "cell_type": "code",
   "execution_count": 71,
   "id": "1c4c366c",
   "metadata": {},
   "outputs": [
    {
     "data": {
      "image/png": "[encoded data removed]",
      "text/plain": [
       "<Figure size 432x288 with 1 Axes>"
      ]
     },
     "metadata": {
      "needs_background": "light"
     },
     "output_type": "display_data"
    }
   ],
   "source": [
    "# season\n",
    "sns.boxplot(data=bike, x='season', y='cnt')\n",
    "plt.show()"
   ]
  },
  {
   "cell_type": "code",
   "execution_count": 72,
   "id": "5dcdba57",
   "metadata": {},
   "outputs": [
    {
     "data": {
      "image/png": "[encoded data removed]",
      "text/plain": [
       "<Figure size 432x288 with 1 Axes>"
      ]
     },
     "metadata": {
      "needs_background": "light"
     },
     "output_type": "display_data"
    }
   ],
   "source": [
    "# yr\n",
    "sns.boxplot(data=bike, x='yr', y='cnt')\n",
    "plt.show()"
   ]
  },
  {
   "cell_type": "code",
   "execution_count": 73,
   "id": "20cc1469",
   "metadata": {},
   "outputs": [
    {
     "data": {
      "image/png": "[encoded data removed]",
      "text/plain": [
       "<Figure size 432x288 with 1 Axes>"
      ]
     },
     "metadata": {
      "needs_background": "light"
     },
     "output_type": "display_data"
    }
   ],
   "source": [
    "# mnth\n",
    "sns.boxplot(data=bike, x='mnth', y='cnt')\n",
    "plt.show()"
   ]
  },
  {
   "cell_type": "code",
   "execution_count": 74,
   "id": "2093484b",
   "metadata": {},
   "outputs": [
    {
     "data": {
      "image/png": "[encoded data removed]",
      "text/plain": [
       "<Figure size 432x288 with 1 Axes>"
      ]
     },
     "metadata": {
      "needs_background": "light"
     },
     "output_type": "display_data"
    }
   ],
   "source": [
    "# holiday\n",
    "sns.boxplot(data=bike, x='holiday', y='cnt')\n",
    "plt.show()"
   ]
  },
  {
   "cell_type": "markdown",
   "id": "e8767c88",
   "metadata": {},
   "source": [
    "# Dummy Variable , Splitting , Scalling"
   ]
  },
  {
   "cell_type": "code",
   "execution_count": 75,
   "id": "2f6732bc",
   "metadata": {},
   "outputs": [],
   "source": [
    "# Creating Dummy of all categorical type variables\n",
    "\n",
    "bike = pd.get_dummies(data=bike,columns=[\"season\",\"mnth\",\"weekday\"],drop_first=True)\n",
    "bike = pd.get_dummies(data=bike,columns=[\"weathersit\"])"
   ]
  },
  {
   "cell_type": "code",
   "execution_count": 76,
   "id": "279b371e",
   "metadata": {},
   "outputs": [
    {
     "data": {
      "text/html": [
       "<div>\n",
       "<style scoped>\n",
       "    .dataframe tbody tr th:only-of-type {\n",
       "        vertical-align: middle;\n",
       "    }\n",
       "\n",
       "    .dataframe tbody tr th {\n",
       "        vertical-align: top;\n",
       "    }\n",
       "\n",
       "    .dataframe thead th {\n",
       "        text-align: right;\n",
       "    }\n",
       "</style>\n",
       "<table border=\"1\" class=\"dataframe\">\n",
       "  <thead>\n",
       "    <tr style=\"text-align: right;\">\n",
       "      <th></th>\n",
       "      <th>yr</th>\n",
       "      <th>holiday</th>\n",
       "      <th>workingday</th>\n",
       "      <th>temp</th>\n",
       "      <th>hum</th>\n",
       "      <th>windspeed</th>\n",
       "      <th>cnt</th>\n",
       "      <th>season_spring</th>\n",
       "      <th>season_summer</th>\n",
       "      <th>season_winter</th>\n",
       "      <th>...</th>\n",
       "      <th>mnth_sept</th>\n",
       "      <th>weekday_mon</th>\n",
       "      <th>weekday_sat</th>\n",
       "      <th>weekday_sun</th>\n",
       "      <th>weekday_thu</th>\n",
       "      <th>weekday_tue</th>\n",
       "      <th>weekday_wed</th>\n",
       "      <th>weathersit_average</th>\n",
       "      <th>weathersit_bad</th>\n",
       "      <th>weathersit_clear</th>\n",
       "    </tr>\n",
       "  </thead>\n",
       "  <tbody>\n",
       "    <tr>\n",
       "      <th>0</th>\n",
       "      <td>0</td>\n",
       "      <td>0</td>\n",
       "      <td>1</td>\n",
       "      <td>14.110847</td>\n",
       "      <td>80.5833</td>\n",
       "      <td>10.749882</td>\n",
       "      <td>985</td>\n",
       "      <td>1</td>\n",
       "      <td>0</td>\n",
       "      <td>0</td>\n",
       "      <td>...</td>\n",
       "      <td>0</td>\n",
       "      <td>1</td>\n",
       "      <td>0</td>\n",
       "      <td>0</td>\n",
       "      <td>0</td>\n",
       "      <td>0</td>\n",
       "      <td>0</td>\n",
       "      <td>1</td>\n",
       "      <td>0</td>\n",
       "      <td>0</td>\n",
       "    </tr>\n",
       "    <tr>\n",
       "      <th>1</th>\n",
       "      <td>0</td>\n",
       "      <td>0</td>\n",
       "      <td>1</td>\n",
       "      <td>14.902598</td>\n",
       "      <td>69.6087</td>\n",
       "      <td>16.652113</td>\n",
       "      <td>801</td>\n",
       "      <td>1</td>\n",
       "      <td>0</td>\n",
       "      <td>0</td>\n",
       "      <td>...</td>\n",
       "      <td>0</td>\n",
       "      <td>0</td>\n",
       "      <td>0</td>\n",
       "      <td>0</td>\n",
       "      <td>0</td>\n",
       "      <td>1</td>\n",
       "      <td>0</td>\n",
       "      <td>1</td>\n",
       "      <td>0</td>\n",
       "      <td>0</td>\n",
       "    </tr>\n",
       "    <tr>\n",
       "      <th>2</th>\n",
       "      <td>0</td>\n",
       "      <td>0</td>\n",
       "      <td>1</td>\n",
       "      <td>8.050924</td>\n",
       "      <td>43.7273</td>\n",
       "      <td>16.636703</td>\n",
       "      <td>1349</td>\n",
       "      <td>1</td>\n",
       "      <td>0</td>\n",
       "      <td>0</td>\n",
       "      <td>...</td>\n",
       "      <td>0</td>\n",
       "      <td>0</td>\n",
       "      <td>0</td>\n",
       "      <td>0</td>\n",
       "      <td>0</td>\n",
       "      <td>0</td>\n",
       "      <td>1</td>\n",
       "      <td>0</td>\n",
       "      <td>0</td>\n",
       "      <td>1</td>\n",
       "    </tr>\n",
       "    <tr>\n",
       "      <th>3</th>\n",
       "      <td>0</td>\n",
       "      <td>0</td>\n",
       "      <td>1</td>\n",
       "      <td>8.200000</td>\n",
       "      <td>59.0435</td>\n",
       "      <td>10.739832</td>\n",
       "      <td>1562</td>\n",
       "      <td>1</td>\n",
       "      <td>0</td>\n",
       "      <td>0</td>\n",
       "      <td>...</td>\n",
       "      <td>0</td>\n",
       "      <td>0</td>\n",
       "      <td>0</td>\n",
       "      <td>0</td>\n",
       "      <td>1</td>\n",
       "      <td>0</td>\n",
       "      <td>0</td>\n",
       "      <td>0</td>\n",
       "      <td>0</td>\n",
       "      <td>1</td>\n",
       "    </tr>\n",
       "    <tr>\n",
       "      <th>4</th>\n",
       "      <td>0</td>\n",
       "      <td>0</td>\n",
       "      <td>1</td>\n",
       "      <td>9.305237</td>\n",
       "      <td>43.6957</td>\n",
       "      <td>12.522300</td>\n",
       "      <td>1600</td>\n",
       "      <td>1</td>\n",
       "      <td>0</td>\n",
       "      <td>0</td>\n",
       "      <td>...</td>\n",
       "      <td>0</td>\n",
       "      <td>0</td>\n",
       "      <td>0</td>\n",
       "      <td>0</td>\n",
       "      <td>0</td>\n",
       "      <td>0</td>\n",
       "      <td>0</td>\n",
       "      <td>0</td>\n",
       "      <td>0</td>\n",
       "      <td>1</td>\n",
       "    </tr>\n",
       "  </tbody>\n",
       "</table>\n",
       "<p>5 rows × 30 columns</p>\n",
       "</div>"
      ],
      "text/plain": [
       "   yr  holiday  workingday       temp      hum  windspeed   cnt  \\\n",
       "0   0        0           1  14.110847  80.5833  10.749882   985   \n",
       "1   0        0           1  14.902598  69.6087  16.652113   801   \n",
       "2   0        0           1   8.050924  43.7273  16.636703  1349   \n",
       "3   0        0           1   8.200000  59.0435  10.739832  1562   \n",
       "4   0        0           1   9.305237  43.6957  12.522300  1600   \n",
       "\n",
       "   season_spring  season_summer  season_winter  ...  mnth_sept  weekday_mon  \\\n",
       "0              1              0              0  ...          0            1   \n",
       "1              1              0              0  ...          0            0   \n",
       "2              1              0              0  ...          0            0   \n",
       "3              1              0              0  ...          0            0   \n",
       "4              1              0              0  ...          0            0   \n",
       "\n",
       "   weekday_sat  weekday_sun  weekday_thu  weekday_tue  weekday_wed  \\\n",
       "0            0            0            0            0            0   \n",
       "1            0            0            0            1            0   \n",
       "2            0            0            0            0            1   \n",
       "3            0            0            1            0            0   \n",
       "4            0            0            0            0            0   \n",
       "\n",
       "   weathersit_average  weathersit_bad  weathersit_clear  \n",
       "0                   1               0                 0  \n",
       "1                   1               0                 0  \n",
       "2                   0               0                 1  \n",
       "3                   0               0                 1  \n",
       "4                   0               0                 1  \n",
       "\n",
       "[5 rows x 30 columns]"
      ]
     },
     "execution_count": 76,
     "metadata": {},
     "output_type": "execute_result"
    }
   ],
   "source": [
    "bike.head()"
   ]
  },
  {
   "cell_type": "code",
   "execution_count": 77,
   "id": "87979f47",
   "metadata": {},
   "outputs": [],
   "source": [
    "# Observation : all the dummies are now added in the bikesharing dataframe"
   ]
  },
  {
   "cell_type": "code",
   "execution_count": 78,
   "id": "bd2b3e0f",
   "metadata": {},
   "outputs": [],
   "source": [
    "# importing required liberaries\n",
    "from sklearn.model_selection import train_test_split\n",
    "from sklearn.preprocessing import StandardScaler\n",
    "import statsmodels.api as sm\n",
    "from statsmodels.stats.outliers_influence import variance_inflation_factor"
   ]
  },
  {
   "cell_type": "code",
   "execution_count": 79,
   "id": "25941f06",
   "metadata": {},
   "outputs": [],
   "source": [
    "# splitting data into X and y\n",
    "# y is 'cnt' target variable\n",
    "y = bike.pop('cnt')\n"
   ]
  },
  {
   "cell_type": "code",
   "execution_count": 80,
   "id": "93bacfe6",
   "metadata": {},
   "outputs": [],
   "source": [
    "# X is all remaining independent variables\n",
    "X = bike"
   ]
  },
  {
   "cell_type": "code",
   "execution_count": 81,
   "id": "ac745dc4",
   "metadata": {},
   "outputs": [],
   "source": [
    "# Train Test split with 70:30 ratio\n",
    "X_train, X_test, y_train, y_test = train_test_split(X, y, test_size=0.3, random_state=42)"
   ]
  },
  {
   "cell_type": "code",
   "execution_count": 82,
   "id": "098511ce",
   "metadata": {},
   "outputs": [
    {
     "data": {
      "text/html": [
       "<div>\n",
       "<style scoped>\n",
       "    .dataframe tbody tr th:only-of-type {\n",
       "        vertical-align: middle;\n",
       "    }\n",
       "\n",
       "    .dataframe tbody tr th {\n",
       "        vertical-align: top;\n",
       "    }\n",
       "\n",
       "    .dataframe thead th {\n",
       "        text-align: right;\n",
       "    }\n",
       "</style>\n",
       "<table border=\"1\" class=\"dataframe\">\n",
       "  <thead>\n",
       "    <tr style=\"text-align: right;\">\n",
       "      <th></th>\n",
       "      <th>yr</th>\n",
       "      <th>holiday</th>\n",
       "      <th>workingday</th>\n",
       "      <th>temp</th>\n",
       "      <th>hum</th>\n",
       "      <th>windspeed</th>\n",
       "      <th>season_spring</th>\n",
       "      <th>season_summer</th>\n",
       "      <th>season_winter</th>\n",
       "      <th>mnth_aug</th>\n",
       "      <th>...</th>\n",
       "      <th>mnth_sept</th>\n",
       "      <th>weekday_mon</th>\n",
       "      <th>weekday_sat</th>\n",
       "      <th>weekday_sun</th>\n",
       "      <th>weekday_thu</th>\n",
       "      <th>weekday_tue</th>\n",
       "      <th>weekday_wed</th>\n",
       "      <th>weathersit_average</th>\n",
       "      <th>weathersit_bad</th>\n",
       "      <th>weathersit_clear</th>\n",
       "    </tr>\n",
       "  </thead>\n",
       "  <tbody>\n",
       "    <tr>\n",
       "      <th>0</th>\n",
       "      <td>0</td>\n",
       "      <td>0</td>\n",
       "      <td>1</td>\n",
       "      <td>14.110847</td>\n",
       "      <td>80.5833</td>\n",
       "      <td>10.749882</td>\n",
       "      <td>1</td>\n",
       "      <td>0</td>\n",
       "      <td>0</td>\n",
       "      <td>0</td>\n",
       "      <td>...</td>\n",
       "      <td>0</td>\n",
       "      <td>1</td>\n",
       "      <td>0</td>\n",
       "      <td>0</td>\n",
       "      <td>0</td>\n",
       "      <td>0</td>\n",
       "      <td>0</td>\n",
       "      <td>1</td>\n",
       "      <td>0</td>\n",
       "      <td>0</td>\n",
       "    </tr>\n",
       "    <tr>\n",
       "      <th>1</th>\n",
       "      <td>0</td>\n",
       "      <td>0</td>\n",
       "      <td>1</td>\n",
       "      <td>14.902598</td>\n",
       "      <td>69.6087</td>\n",
       "      <td>16.652113</td>\n",
       "      <td>1</td>\n",
       "      <td>0</td>\n",
       "      <td>0</td>\n",
       "      <td>0</td>\n",
       "      <td>...</td>\n",
       "      <td>0</td>\n",
       "      <td>0</td>\n",
       "      <td>0</td>\n",
       "      <td>0</td>\n",
       "      <td>0</td>\n",
       "      <td>1</td>\n",
       "      <td>0</td>\n",
       "      <td>1</td>\n",
       "      <td>0</td>\n",
       "      <td>0</td>\n",
       "    </tr>\n",
       "    <tr>\n",
       "      <th>2</th>\n",
       "      <td>0</td>\n",
       "      <td>0</td>\n",
       "      <td>1</td>\n",
       "      <td>8.050924</td>\n",
       "      <td>43.7273</td>\n",
       "      <td>16.636703</td>\n",
       "      <td>1</td>\n",
       "      <td>0</td>\n",
       "      <td>0</td>\n",
       "      <td>0</td>\n",
       "      <td>...</td>\n",
       "      <td>0</td>\n",
       "      <td>0</td>\n",
       "      <td>0</td>\n",
       "      <td>0</td>\n",
       "      <td>0</td>\n",
       "      <td>0</td>\n",
       "      <td>1</td>\n",
       "      <td>0</td>\n",
       "      <td>0</td>\n",
       "      <td>1</td>\n",
       "    </tr>\n",
       "    <tr>\n",
       "      <th>3</th>\n",
       "      <td>0</td>\n",
       "      <td>0</td>\n",
       "      <td>1</td>\n",
       "      <td>8.200000</td>\n",
       "      <td>59.0435</td>\n",
       "      <td>10.739832</td>\n",
       "      <td>1</td>\n",
       "      <td>0</td>\n",
       "      <td>0</td>\n",
       "      <td>0</td>\n",
       "      <td>...</td>\n",
       "      <td>0</td>\n",
       "      <td>0</td>\n",
       "      <td>0</td>\n",
       "      <td>0</td>\n",
       "      <td>1</td>\n",
       "      <td>0</td>\n",
       "      <td>0</td>\n",
       "      <td>0</td>\n",
       "      <td>0</td>\n",
       "      <td>1</td>\n",
       "    </tr>\n",
       "    <tr>\n",
       "      <th>4</th>\n",
       "      <td>0</td>\n",
       "      <td>0</td>\n",
       "      <td>1</td>\n",
       "      <td>9.305237</td>\n",
       "      <td>43.6957</td>\n",
       "      <td>12.522300</td>\n",
       "      <td>1</td>\n",
       "      <td>0</td>\n",
       "      <td>0</td>\n",
       "      <td>0</td>\n",
       "      <td>...</td>\n",
       "      <td>0</td>\n",
       "      <td>0</td>\n",
       "      <td>0</td>\n",
       "      <td>0</td>\n",
       "      <td>0</td>\n",
       "      <td>0</td>\n",
       "      <td>0</td>\n",
       "      <td>0</td>\n",
       "      <td>0</td>\n",
       "      <td>1</td>\n",
       "    </tr>\n",
       "  </tbody>\n",
       "</table>\n",
       "<p>5 rows × 29 columns</p>\n",
       "</div>"
      ],
      "text/plain": [
       "   yr  holiday  workingday       temp      hum  windspeed  season_spring  \\\n",
       "0   0        0           1  14.110847  80.5833  10.749882              1   \n",
       "1   0        0           1  14.902598  69.6087  16.652113              1   \n",
       "2   0        0           1   8.050924  43.7273  16.636703              1   \n",
       "3   0        0           1   8.200000  59.0435  10.739832              1   \n",
       "4   0        0           1   9.305237  43.6957  12.522300              1   \n",
       "\n",
       "   season_summer  season_winter  mnth_aug  ...  mnth_sept  weekday_mon  \\\n",
       "0              0              0         0  ...          0            1   \n",
       "1              0              0         0  ...          0            0   \n",
       "2              0              0         0  ...          0            0   \n",
       "3              0              0         0  ...          0            0   \n",
       "4              0              0         0  ...          0            0   \n",
       "\n",
       "   weekday_sat  weekday_sun  weekday_thu  weekday_tue  weekday_wed  \\\n",
       "0            0            0            0            0            0   \n",
       "1            0            0            0            1            0   \n",
       "2            0            0            0            0            1   \n",
       "3            0            0            1            0            0   \n",
       "4            0            0            0            0            0   \n",
       "\n",
       "   weathersit_average  weathersit_bad  weathersit_clear  \n",
       "0                   1               0                 0  \n",
       "1                   1               0                 0  \n",
       "2                   0               0                 1  \n",
       "3                   0               0                 1  \n",
       "4                   0               0                 1  \n",
       "\n",
       "[5 rows x 29 columns]"
      ]
     },
     "execution_count": 82,
     "metadata": {},
     "output_type": "execute_result"
    }
   ],
   "source": [
    "X.head()"
   ]
  },
  {
   "cell_type": "markdown",
   "id": "62860409",
   "metadata": {},
   "source": [
    "#### Scalling of Continueos Variables"
   ]
  },
  {
   "cell_type": "code",
   "execution_count": 83,
   "id": "39803e4d",
   "metadata": {},
   "outputs": [],
   "source": [
    "# Importing required library\n",
    "from sklearn.linear_model import LinearRegression\n",
    "from sklearn.feature_selection import RFE\n",
    "from sklearn.model_selection import train_test_split\n",
    "from sklearn.metrics import r2_score\n",
    "from sklearn.preprocessing import MinMaxScaler"
   ]
  },
  {
   "cell_type": "code",
   "execution_count": 87,
   "id": "cdc316b2",
   "metadata": {},
   "outputs": [],
   "source": [
    "num_vars = ['temp','hum','windspeed']\n",
    "\n",
    "scaler = MinMaxScaler()\n",
    "X_train[num_vars] = scaler.fit_transform(X_train[num_vars])"
   ]
  },
  {
   "cell_type": "code",
   "execution_count": 89,
   "id": "0ff47b1f",
   "metadata": {},
   "outputs": [
    {
     "data": {
      "text/html": [
       "<div>\n",
       "<style scoped>\n",
       "    .dataframe tbody tr th:only-of-type {\n",
       "        vertical-align: middle;\n",
       "    }\n",
       "\n",
       "    .dataframe tbody tr th {\n",
       "        vertical-align: top;\n",
       "    }\n",
       "\n",
       "    .dataframe thead th {\n",
       "        text-align: right;\n",
       "    }\n",
       "</style>\n",
       "<table border=\"1\" class=\"dataframe\">\n",
       "  <thead>\n",
       "    <tr style=\"text-align: right;\">\n",
       "      <th></th>\n",
       "      <th>yr</th>\n",
       "      <th>holiday</th>\n",
       "      <th>workingday</th>\n",
       "      <th>temp</th>\n",
       "      <th>hum</th>\n",
       "      <th>windspeed</th>\n",
       "      <th>season_spring</th>\n",
       "      <th>season_summer</th>\n",
       "      <th>season_winter</th>\n",
       "      <th>mnth_aug</th>\n",
       "      <th>...</th>\n",
       "      <th>mnth_sept</th>\n",
       "      <th>weekday_mon</th>\n",
       "      <th>weekday_sat</th>\n",
       "      <th>weekday_sun</th>\n",
       "      <th>weekday_thu</th>\n",
       "      <th>weekday_tue</th>\n",
       "      <th>weekday_wed</th>\n",
       "      <th>weathersit_average</th>\n",
       "      <th>weathersit_bad</th>\n",
       "      <th>weathersit_clear</th>\n",
       "    </tr>\n",
       "  </thead>\n",
       "  <tbody>\n",
       "    <tr>\n",
       "      <th>683</th>\n",
       "      <td>1</td>\n",
       "      <td>0</td>\n",
       "      <td>1</td>\n",
       "      <td>0.327133</td>\n",
       "      <td>0.639330</td>\n",
       "      <td>0.327101</td>\n",
       "      <td>0</td>\n",
       "      <td>0</td>\n",
       "      <td>1</td>\n",
       "      <td>0</td>\n",
       "      <td>...</td>\n",
       "      <td>0</td>\n",
       "      <td>0</td>\n",
       "      <td>0</td>\n",
       "      <td>0</td>\n",
       "      <td>0</td>\n",
       "      <td>0</td>\n",
       "      <td>0</td>\n",
       "      <td>1</td>\n",
       "      <td>0</td>\n",
       "      <td>0</td>\n",
       "    </tr>\n",
       "    <tr>\n",
       "      <th>645</th>\n",
       "      <td>1</td>\n",
       "      <td>1</td>\n",
       "      <td>0</td>\n",
       "      <td>0.403972</td>\n",
       "      <td>0.731215</td>\n",
       "      <td>0.419004</td>\n",
       "      <td>0</td>\n",
       "      <td>0</td>\n",
       "      <td>1</td>\n",
       "      <td>0</td>\n",
       "      <td>...</td>\n",
       "      <td>0</td>\n",
       "      <td>0</td>\n",
       "      <td>0</td>\n",
       "      <td>0</td>\n",
       "      <td>0</td>\n",
       "      <td>1</td>\n",
       "      <td>0</td>\n",
       "      <td>1</td>\n",
       "      <td>0</td>\n",
       "      <td>0</td>\n",
       "    </tr>\n",
       "    <tr>\n",
       "      <th>163</th>\n",
       "      <td>0</td>\n",
       "      <td>0</td>\n",
       "      <td>1</td>\n",
       "      <td>0.717562</td>\n",
       "      <td>0.509660</td>\n",
       "      <td>0.708724</td>\n",
       "      <td>0</td>\n",
       "      <td>1</td>\n",
       "      <td>0</td>\n",
       "      <td>0</td>\n",
       "      <td>...</td>\n",
       "      <td>0</td>\n",
       "      <td>0</td>\n",
       "      <td>0</td>\n",
       "      <td>0</td>\n",
       "      <td>0</td>\n",
       "      <td>0</td>\n",
       "      <td>1</td>\n",
       "      <td>0</td>\n",
       "      <td>0</td>\n",
       "      <td>1</td>\n",
       "    </tr>\n",
       "    <tr>\n",
       "      <th>360</th>\n",
       "      <td>0</td>\n",
       "      <td>0</td>\n",
       "      <td>1</td>\n",
       "      <td>0.331287</td>\n",
       "      <td>0.785745</td>\n",
       "      <td>0.415925</td>\n",
       "      <td>1</td>\n",
       "      <td>0</td>\n",
       "      <td>0</td>\n",
       "      <td>0</td>\n",
       "      <td>...</td>\n",
       "      <td>0</td>\n",
       "      <td>0</td>\n",
       "      <td>0</td>\n",
       "      <td>0</td>\n",
       "      <td>1</td>\n",
       "      <td>0</td>\n",
       "      <td>0</td>\n",
       "      <td>1</td>\n",
       "      <td>0</td>\n",
       "      <td>0</td>\n",
       "    </tr>\n",
       "    <tr>\n",
       "      <th>640</th>\n",
       "      <td>1</td>\n",
       "      <td>0</td>\n",
       "      <td>1</td>\n",
       "      <td>0.745598</td>\n",
       "      <td>0.817947</td>\n",
       "      <td>0.110593</td>\n",
       "      <td>0</td>\n",
       "      <td>0</td>\n",
       "      <td>1</td>\n",
       "      <td>0</td>\n",
       "      <td>...</td>\n",
       "      <td>0</td>\n",
       "      <td>0</td>\n",
       "      <td>0</td>\n",
       "      <td>0</td>\n",
       "      <td>1</td>\n",
       "      <td>0</td>\n",
       "      <td>0</td>\n",
       "      <td>1</td>\n",
       "      <td>0</td>\n",
       "      <td>0</td>\n",
       "    </tr>\n",
       "  </tbody>\n",
       "</table>\n",
       "<p>5 rows × 29 columns</p>\n",
       "</div>"
      ],
      "text/plain": [
       "     yr  holiday  workingday      temp       hum  windspeed  season_spring  \\\n",
       "683   1        0           1  0.327133  0.639330   0.327101              0   \n",
       "645   1        1           0  0.403972  0.731215   0.419004              0   \n",
       "163   0        0           1  0.717562  0.509660   0.708724              0   \n",
       "360   0        0           1  0.331287  0.785745   0.415925              1   \n",
       "640   1        0           1  0.745598  0.817947   0.110593              0   \n",
       "\n",
       "     season_summer  season_winter  mnth_aug  ...  mnth_sept  weekday_mon  \\\n",
       "683              0              1         0  ...          0            0   \n",
       "645              0              1         0  ...          0            0   \n",
       "163              1              0         0  ...          0            0   \n",
       "360              0              0         0  ...          0            0   \n",
       "640              0              1         0  ...          0            0   \n",
       "\n",
       "     weekday_sat  weekday_sun  weekday_thu  weekday_tue  weekday_wed  \\\n",
       "683            0            0            0            0            0   \n",
       "645            0            0            0            1            0   \n",
       "163            0            0            0            0            1   \n",
       "360            0            0            1            0            0   \n",
       "640            0            0            1            0            0   \n",
       "\n",
       "     weathersit_average  weathersit_bad  weathersit_clear  \n",
       "683                   1               0                 0  \n",
       "645                   1               0                 0  \n",
       "163                   0               0                 1  \n",
       "360                   1               0                 0  \n",
       "640                   1               0                 0  \n",
       "\n",
       "[5 rows x 29 columns]"
      ]
     },
     "execution_count": 89,
     "metadata": {},
     "output_type": "execute_result"
    }
   ],
   "source": [
    "X_train.head()"
   ]
  },
  {
   "cell_type": "markdown",
   "id": "73dd58dc",
   "metadata": {},
   "source": [
    "# Model Building using RFE "
   ]
  },
  {
   "cell_type": "code",
   "execution_count": 90,
   "id": "07f25d43",
   "metadata": {},
   "outputs": [
    {
     "data": {
      "text/plain": [
       "LinearRegression()"
      ]
     },
     "execution_count": 90,
     "metadata": {},
     "output_type": "execute_result"
    }
   ],
   "source": [
    "# Building Lienar Regression model \n",
    "lr = LinearRegression()\n",
    "lr.fit(X_train,y_train)"
   ]
  },
  {
   "cell_type": "code",
   "execution_count": 91,
   "id": "cb426c50",
   "metadata": {},
   "outputs": [
    {
     "data": {
      "text/plain": [
       "RFE(estimator=LinearRegression(), n_features_to_select=15)"
      ]
     },
     "execution_count": 91,
     "metadata": {},
     "output_type": "execute_result"
    }
   ],
   "source": [
    "rfe = RFE(lr,15)\n",
    "rfe.fit(X_train,y_train)"
   ]
  },
  {
   "cell_type": "markdown",
   "id": "aea3a8db",
   "metadata": {},
   "source": [
    "#### Observation : Linear Regression model and rfe with fit has been genrated"
   ]
  },
  {
   "cell_type": "code",
   "execution_count": 92,
   "id": "b7ea98b6",
   "metadata": {},
   "outputs": [
    {
     "data": {
      "text/plain": [
       "[('yr', True, 1),\n",
       " ('holiday', True, 1),\n",
       " ('workingday', False, 13),\n",
       " ('temp', True, 1),\n",
       " ('hum', True, 1),\n",
       " ('windspeed', True, 1),\n",
       " ('season_spring', True, 1),\n",
       " ('season_summer', False, 7),\n",
       " ('season_winter', True, 1),\n",
       " ('mnth_aug', False, 9),\n",
       " ('mnth_dec', True, 1),\n",
       " ('mnth_feb', False, 8),\n",
       " ('mnth_jan', False, 12),\n",
       " ('mnth_jul', True, 1),\n",
       " ('mnth_jun', False, 14),\n",
       " ('mnth_mar', True, 1),\n",
       " ('mnth_may', True, 1),\n",
       " ('mnth_nov', True, 1),\n",
       " ('mnth_oct', False, 2),\n",
       " ('mnth_sept', True, 1),\n",
       " ('weekday_mon', False, 4),\n",
       " ('weekday_sat', False, 11),\n",
       " ('weekday_sun', False, 10),\n",
       " ('weekday_thu', False, 15),\n",
       " ('weekday_tue', False, 6),\n",
       " ('weekday_wed', False, 5),\n",
       " ('weathersit_average', False, 3),\n",
       " ('weathersit_bad', True, 1),\n",
       " ('weathersit_clear', True, 1)]"
      ]
     },
     "execution_count": 92,
     "metadata": {},
     "output_type": "execute_result"
    }
   ],
   "source": [
    "# checking RFE Ranking\n",
    "list(zip(X_train.columns,rfe.support_,rfe.ranking_))"
   ]
  },
  {
   "cell_type": "code",
   "execution_count": 93,
   "id": "cd35a4c2",
   "metadata": {},
   "outputs": [
    {
     "data": {
      "text/plain": [
       "Index(['yr', 'holiday', 'temp', 'hum', 'windspeed', 'season_spring',\n",
       "       'season_winter', 'mnth_dec', 'mnth_jul', 'mnth_mar', 'mnth_may',\n",
       "       'mnth_nov', 'mnth_sept', 'weathersit_bad', 'weathersit_clear'],\n",
       "      dtype='object')"
      ]
     },
     "execution_count": 93,
     "metadata": {},
     "output_type": "execute_result"
    }
   ],
   "source": [
    "# data columns selected by RFE\n",
    "X_train.columns[rfe.support_]"
   ]
  },
  {
   "cell_type": "code",
   "execution_count": 94,
   "id": "019ff56c",
   "metadata": {},
   "outputs": [
    {
     "data": {
      "text/plain": [
       "Index(['workingday', 'season_summer', 'mnth_aug', 'mnth_feb', 'mnth_jan',\n",
       "       'mnth_jun', 'mnth_oct', 'weekday_mon', 'weekday_sat', 'weekday_sun',\n",
       "       'weekday_thu', 'weekday_tue', 'weekday_wed', 'weathersit_average'],\n",
       "      dtype='object')"
      ]
     },
     "execution_count": 94,
     "metadata": {},
     "output_type": "execute_result"
    }
   ],
   "source": [
    "# data columns not selected by RFE\n",
    "X_train.columns[~rfe.support_]"
   ]
  },
  {
   "cell_type": "code",
   "execution_count": 97,
   "id": "1644d26a",
   "metadata": {},
   "outputs": [],
   "source": [
    "# Taking columns which we will use for regression\n",
    "X_train_rfe = X_train[['yr', 'holiday', 'workingday', 'temp', 'hum', 'windspeed', 'season_spring',\n",
    "       'season_summer', 'season_winter', 'mnth_jan', 'mnth_jul', 'mnth_sept', 'weekday_sat',\n",
    "       'weathersit_bad','weathersit_clear']]"
   ]
  },
  {
   "cell_type": "code",
   "execution_count": 98,
   "id": "69316ae6",
   "metadata": {},
   "outputs": [
    {
     "data": {
      "text/plain": [
       "(511, 15)"
      ]
     },
     "execution_count": 98,
     "metadata": {},
     "output_type": "execute_result"
    }
   ],
   "source": [
    "# Checking X_train_rfe shape\n",
    "X_train_rfe.shape"
   ]
  },
  {
   "cell_type": "code",
   "execution_count": 99,
   "id": "539f768c",
   "metadata": {},
   "outputs": [],
   "source": [
    "colms = ['yr', 'holiday', 'workingday', 'temp', 'hum', 'windspeed', 'season_spring',\n",
    "       'season_summer', 'season_winter', 'mnth_jan', 'mnth_jul', 'mnth_sept', 'weekday_sat',\n",
    "       'weathersit_bad', 'weathersit_clear']"
   ]
  },
  {
   "cell_type": "code",
   "execution_count": 104,
   "id": "5d3ee15b",
   "metadata": {},
   "outputs": [],
   "source": [
    "#Function to build models\n",
    "def build_model(colms):\n",
    "    X_train_sm = sm.add_constant(X_train[colms])\n",
    "    lm = sm.OLS(y_train, X_train_sm).fit()\n",
    "    print(lm.summary())\n",
    "    return lm"
   ]
  },
  {
   "cell_type": "code",
   "execution_count": 105,
   "id": "212a2f3b",
   "metadata": {},
   "outputs": [],
   "source": [
    "#Function to calculate VIF\n",
    "def get_vif(colms):\n",
    "    df1 = X_train[colms]\n",
    "    vif = pd.DataFrame()\n",
    "    vif['Features'] = df1.columns\n",
    "    vif['VIF'] = [variance_inflation_factor(df1.values, i) for i in range(df1.shape[1])]\n",
    "    vif['VIF'] = round(vif['VIF'],2)\n",
    "    print(vif.sort_values(by='VIF',ascending=False))"
   ]
  },
  {
   "cell_type": "markdown",
   "id": "7b004e41",
   "metadata": {},
   "source": [
    "## MODEL 1"
   ]
  },
  {
   "cell_type": "code",
   "execution_count": 106,
   "id": "beeec9de",
   "metadata": {},
   "outputs": [
    {
     "name": "stdout",
     "output_type": "stream",
     "text": [
      "                            OLS Regression Results                            \n",
      "==============================================================================\n",
      "Dep. Variable:                    cnt   R-squared:                       0.833\n",
      "Model:                            OLS   Adj. R-squared:                  0.828\n",
      "Method:                 Least Squares   F-statistic:                     165.0\n",
      "Date:                Mon, 11 Apr 2022   Prob (F-statistic):          1.70e-181\n",
      "Time:                        14:00:51   Log-Likelihood:                -4134.9\n",
      "No. Observations:                 511   AIC:                             8302.\n",
      "Df Residuals:                     495   BIC:                             8370.\n",
      "Df Model:                          15                                         \n",
      "Covariance Type:            nonrobust                                         \n",
      "====================================================================================\n",
      "                       coef    std err          t      P>|t|      [0.025      0.975]\n",
      "------------------------------------------------------------------------------------\n",
      "const             2344.9512    380.978      6.155      0.000    1596.418    3093.484\n",
      "yr                1955.0549     72.324     27.032      0.000    1812.955    2097.155\n",
      "holiday           -839.6361    237.519     -3.535      0.000   -1306.306    -372.966\n",
      "workingday        -202.7038    107.596     -1.884      0.060    -414.104       8.697\n",
      "temp              4233.9838    303.827     13.936      0.000    3637.034    4830.934\n",
      "hum              -1378.2895    339.821     -4.056      0.000   -2045.959    -710.620\n",
      "windspeed        -1072.6371    210.709     -5.091      0.000   -1486.631    -658.643\n",
      "season_spring     -795.1544    191.300     -4.157      0.000   -1171.014    -419.294\n",
      "season_summer      380.6325    133.154      2.859      0.004     119.015     642.250\n",
      "season_winter      767.1240    151.761      5.055      0.000     468.950    1065.298\n",
      "mnth_jan           -59.8050    156.115     -0.383      0.702    -366.534     246.924\n",
      "mnth_jul          -367.2369    159.579     -2.301      0.022    -680.772     -53.702\n",
      "mnth_sept          666.1046    144.332      4.615      0.000     382.526     949.684\n",
      "weekday_sat        -72.5004    136.440     -0.531      0.595    -340.574     195.573\n",
      "weathersit_bad   -1297.6886    224.607     -5.778      0.000   -1738.990    -856.388\n",
      "weathersit_clear   464.2948     93.779      4.951      0.000     280.040     648.550\n",
      "==============================================================================\n",
      "Omnibus:                       65.698   Durbin-Watson:                   2.095\n",
      "Prob(Omnibus):                  0.000   Jarque-Bera (JB):              125.994\n",
      "Skew:                          -0.750   Prob(JB):                     4.37e-28\n",
      "Kurtosis:                       4.914   Cond. No.                         25.8\n",
      "==============================================================================\n",
      "\n",
      "Notes:\n",
      "[1] Standard Errors assume that the covariance matrix of the errors is correctly specified.\n",
      "            Features    VIF\n",
      "4                hum  23.90\n",
      "3               temp  19.65\n",
      "2         workingday   6.16\n",
      "5          windspeed   5.73\n",
      "6      season_spring   4.86\n",
      "8      season_winter   3.52\n",
      "14  weathersit_clear   3.37\n",
      "7      season_summer   3.10\n",
      "0                 yr   2.10\n",
      "12       weekday_sat   2.02\n",
      "10          mnth_jul   1.83\n",
      "9           mnth_jan   1.68\n",
      "11         mnth_sept   1.48\n",
      "1            holiday   1.22\n",
      "13    weathersit_bad   1.17\n"
     ]
    }
   ],
   "source": [
    "build_model(colms)\n",
    "get_vif(colms)"
   ]
  },
  {
   "cell_type": "code",
   "execution_count": 109,
   "id": "056e185d",
   "metadata": {},
   "outputs": [
    {
     "data": {
      "image/png": "[encoded data removed]",
      "text/plain": [
       "<Figure size 864x576 with 2 Axes>"
      ]
     },
     "metadata": {
      "needs_background": "light"
     },
     "output_type": "display_data"
    }
   ],
   "source": [
    "# Checking correlation with target column. \n",
    "plt.figure(figsize = (12,8))\n",
    "sns.heatmap(bike[['yr', 'holiday', 'workingday', 'temp', 'hum', 'windspeed', 'season_spring',\n",
    "       'season_summer', 'season_winter', 'mnth_jan', 'mnth_jul', 'mnth_sept', 'weekday_sat',\n",
    "       'weathersit_bad', 'weathersit_clear']].corr(), annot=True)\n",
    "plt.show()"
   ]
  },
  {
   "cell_type": "markdown",
   "id": "811a3962",
   "metadata": {},
   "source": [
    "## MODEL 2"
   ]
  },
  {
   "cell_type": "code",
   "execution_count": 111,
   "id": "52061787",
   "metadata": {},
   "outputs": [
    {
     "name": "stdout",
     "output_type": "stream",
     "text": [
      "                            OLS Regression Results                            \n",
      "==============================================================================\n",
      "Dep. Variable:                    cnt   R-squared:                       0.833\n",
      "Model:                            OLS   Adj. R-squared:                  0.829\n",
      "Method:                 Least Squares   F-statistic:                     177.1\n",
      "Date:                Mon, 11 Apr 2022   Prob (F-statistic):          1.35e-182\n",
      "Time:                        14:05:14   Log-Likelihood:                -4135.0\n",
      "No. Observations:                 511   AIC:                             8300.\n",
      "Df Residuals:                     496   BIC:                             8363.\n",
      "Df Model:                          14                                         \n",
      "Covariance Type:            nonrobust                                         \n",
      "====================================================================================\n",
      "                       coef    std err          t      P>|t|      [0.025      0.975]\n",
      "------------------------------------------------------------------------------------\n",
      "const             2329.4934    378.509      6.154      0.000    1585.815    3073.172\n",
      "yr                1955.1531     72.261     27.057      0.000    1813.177    2097.129\n",
      "holiday           -840.8434    237.294     -3.543      0.000   -1307.069    -374.618\n",
      "workingday        -200.8684    107.396     -1.870      0.062    -411.877      10.140\n",
      "temp              4258.5248    296.741     14.351      0.000    3675.500    4841.549\n",
      "hum              -1383.9501    339.207     -4.080      0.000   -2050.411    -717.489\n",
      "windspeed        -1073.0058    210.525     -5.097      0.000   -1486.637    -659.375\n",
      "season_spring     -806.5438    188.813     -4.272      0.000   -1177.516    -435.572\n",
      "season_summer      384.0827    132.735      2.894      0.004     123.290     644.875\n",
      "season_winter      774.4415    150.424      5.148      0.000     478.895    1069.988\n",
      "mnth_jul          -369.6007    159.322     -2.320      0.021    -682.630     -56.571\n",
      "mnth_sept          665.9059    144.207      4.618      0.000     382.574     949.238\n",
      "weekday_sat        -71.1261    136.276     -0.522      0.602    -338.875     196.623\n",
      "weathersit_bad   -1293.7982    224.184     -5.771      0.000   -1734.266    -853.330\n",
      "weathersit_clear   462.7865     93.616      4.943      0.000     278.854     646.719\n",
      "==============================================================================\n",
      "Omnibus:                       65.111   Durbin-Watson:                   2.095\n",
      "Prob(Omnibus):                  0.000   Jarque-Bera (JB):              124.284\n",
      "Skew:                          -0.746   Prob(JB):                     1.03e-27\n",
      "Kurtosis:                       4.900   Cond. No.                         25.7\n",
      "==============================================================================\n",
      "\n",
      "Notes:\n",
      "[1] Standard Errors assume that the covariance matrix of the errors is correctly specified.\n",
      "            Features    VIF\n",
      "4                hum  23.38\n",
      "3               temp  18.99\n",
      "2         workingday   6.15\n",
      "5          windspeed   5.71\n",
      "6      season_spring   4.56\n",
      "8      season_winter   3.49\n",
      "13  weathersit_clear   3.34\n",
      "7      season_summer   3.09\n",
      "0                 yr   2.09\n",
      "11       weekday_sat   2.02\n",
      "9           mnth_jul   1.83\n",
      "10         mnth_sept   1.48\n",
      "1            holiday   1.21\n",
      "12    weathersit_bad   1.16\n"
     ]
    }
   ],
   "source": [
    "# Dropping mnth_jan for being insignificant as it has negative coefficient and high p-value\n",
    "colms = ['yr', 'holiday', 'workingday', 'temp', 'hum', 'windspeed', 'season_spring',\n",
    "       'season_summer', 'season_winter', 'mnth_jul', 'mnth_sept', 'weekday_sat',\n",
    "       'weathersit_bad', 'weathersit_clear']\n",
    "build_model(colms)\n",
    "get_vif(colms)"
   ]
  },
  {
   "cell_type": "markdown",
   "id": "020f18bc",
   "metadata": {},
   "source": [
    "#### Observation : all columns have p-value > .05 "
   ]
  },
  {
   "cell_type": "markdown",
   "id": "fb7887d1",
   "metadata": {},
   "source": [
    "## MODEL 3"
   ]
  },
  {
   "cell_type": "code",
   "execution_count": 113,
   "id": "056a1b30",
   "metadata": {},
   "outputs": [
    {
     "name": "stdout",
     "output_type": "stream",
     "text": [
      "                            OLS Regression Results                            \n",
      "==============================================================================\n",
      "Dep. Variable:                    cnt   R-squared:                       0.828\n",
      "Model:                            OLS   Adj. R-squared:                  0.823\n",
      "Method:                 Least Squares   F-statistic:                     183.6\n",
      "Date:                Mon, 11 Apr 2022   Prob (F-statistic):          3.37e-180\n",
      "Time:                        14:10:03   Log-Likelihood:                -4143.4\n",
      "No. Observations:                 511   AIC:                             8315.\n",
      "Df Residuals:                     497   BIC:                             8374.\n",
      "Df Model:                          13                                         \n",
      "Covariance Type:            nonrobust                                         \n",
      "====================================================================================\n",
      "                       coef    std err          t      P>|t|      [0.025      0.975]\n",
      "------------------------------------------------------------------------------------\n",
      "const             1318.2141    290.530      4.537      0.000     747.395    1889.033\n",
      "yr                1995.7722     72.690     27.456      0.000    1852.954    2138.590\n",
      "holiday           -873.2715    240.865     -3.626      0.000   -1346.511    -400.032\n",
      "workingday        -226.4412    108.888     -2.080      0.038    -440.379     -12.504\n",
      "temp              4050.9306    296.912     13.644      0.000    3467.573    4634.289\n",
      "windspeed         -816.0345    204.020     -4.000      0.000   -1216.883    -415.186\n",
      "season_spring     -838.0753    191.601     -4.374      0.000   -1214.523    -461.627\n",
      "season_summer      376.3936    134.795      2.792      0.005     111.556     641.231\n",
      "season_winter      713.5094    152.019      4.694      0.000     414.831    1012.188\n",
      "mnth_jul          -326.5137    161.455     -2.022      0.044    -643.731      -9.296\n",
      "mnth_sept          610.3106    145.804      4.186      0.000     323.843     896.779\n",
      "weekday_sat        -50.4406    138.309     -0.365      0.715    -322.182     221.301\n",
      "weathersit_bad   -1475.9962    223.123     -6.615      0.000   -1914.376   -1037.616\n",
      "weathersit_clear   685.8621     77.177      8.887      0.000     534.229     837.495\n",
      "==============================================================================\n",
      "Omnibus:                       60.891   Durbin-Watson:                   2.127\n",
      "Prob(Omnibus):                  0.000   Jarque-Bera (JB):              113.587\n",
      "Skew:                          -0.712   Prob(JB):                     2.16e-25\n",
      "Kurtosis:                       4.819   Cond. No.                         21.4\n",
      "==============================================================================\n",
      "\n",
      "Notes:\n",
      "[1] Standard Errors assume that the covariance matrix of the errors is correctly specified.\n",
      "            Features   VIF\n",
      "3               temp  8.63\n",
      "2         workingday  5.77\n",
      "4          windspeed  5.71\n",
      "12  weathersit_clear  2.79\n",
      "5      season_spring  2.73\n",
      "6      season_summer  2.66\n",
      "7      season_winter  2.18\n",
      "0                 yr  2.09\n",
      "10       weekday_sat  1.99\n",
      "8           mnth_jul  1.83\n",
      "9          mnth_sept  1.42\n",
      "1            holiday  1.20\n",
      "11    weathersit_bad  1.12\n"
     ]
    }
   ],
   "source": [
    "# Dropping hum for being insignificant as it has negative coefficient and high p-value\n",
    "colms = ['yr', 'holiday', 'workingday', 'temp', 'windspeed', 'season_spring',\n",
    "       'season_summer', 'season_winter', 'mnth_jul', 'mnth_sept', 'weekday_sat',\n",
    "       'weathersit_bad', 'weathersit_clear']\n",
    "build_model(colms)\n",
    "get_vif(colms)"
   ]
  },
  {
   "cell_type": "markdown",
   "id": "4898860b",
   "metadata": {},
   "source": [
    "## MODEL 4"
   ]
  },
  {
   "cell_type": "code",
   "execution_count": 114,
   "id": "b3610e2f",
   "metadata": {},
   "outputs": [
    {
     "name": "stdout",
     "output_type": "stream",
     "text": [
      "                            OLS Regression Results                            \n",
      "==============================================================================\n",
      "Dep. Variable:                    cnt   R-squared:                       0.823\n",
      "Model:                            OLS   Adj. R-squared:                  0.819\n",
      "Method:                 Least Squares   F-statistic:                     193.1\n",
      "Date:                Mon, 11 Apr 2022   Prob (F-statistic):          1.51e-178\n",
      "Time:                        14:10:08   Log-Likelihood:                -4150.1\n",
      "No. Observations:                 511   AIC:                             8326.\n",
      "Df Residuals:                     498   BIC:                             8381.\n",
      "Df Model:                          12                                         \n",
      "Covariance Type:            nonrobust                                         \n",
      "====================================================================================\n",
      "                       coef    std err          t      P>|t|      [0.025      0.975]\n",
      "------------------------------------------------------------------------------------\n",
      "const             1169.0872    291.090      4.016      0.000     597.172    1741.002\n",
      "yr                1997.7265     73.569     27.154      0.000    1853.182    2142.271\n",
      "workingday         -76.1270    101.906     -0.747      0.455    -276.346     124.093\n",
      "temp              4062.1670    300.495     13.518      0.000    3471.774    4652.560\n",
      "windspeed         -786.5884    206.329     -3.812      0.000   -1191.972    -381.205\n",
      "season_spring     -870.5177    193.712     -4.494      0.000   -1251.111    -489.925\n",
      "season_summer      366.4796    136.400      2.687      0.007      98.489     634.471\n",
      "season_winter      697.9586    153.800      4.538      0.000     395.782    1000.135\n",
      "mnth_jul          -335.0219    163.394     -2.050      0.041    -656.049     -13.995\n",
      "mnth_sept          606.0378    147.566      4.107      0.000     316.109     895.967\n",
      "weekday_sat         99.5698    133.574      0.745      0.456    -162.869     362.008\n",
      "weathersit_bad   -1471.4051    225.823     -6.516      0.000   -1915.089   -1027.721\n",
      "weathersit_clear   676.7543     78.071      8.668      0.000     523.365     830.143\n",
      "==============================================================================\n",
      "Omnibus:                       68.186   Durbin-Watson:                   2.118\n",
      "Prob(Omnibus):                  0.000   Jarque-Bera (JB):              126.740\n",
      "Skew:                          -0.787   Prob(JB):                     3.01e-28\n",
      "Kurtosis:                       4.864   Cond. No.                         21.3\n",
      "==============================================================================\n",
      "\n",
      "Notes:\n",
      "[1] Standard Errors assume that the covariance matrix of the errors is correctly specified.\n",
      "            Features   VIF\n",
      "2               temp  8.37\n",
      "3          windspeed  5.71\n",
      "1         workingday  5.03\n",
      "11  weathersit_clear  2.78\n",
      "5      season_summer  2.63\n",
      "4      season_spring  2.57\n",
      "6      season_winter  2.10\n",
      "0                 yr  2.09\n",
      "7           mnth_jul  1.83\n",
      "9        weekday_sat  1.83\n",
      "8          mnth_sept  1.42\n",
      "10    weathersit_bad  1.12\n"
     ]
    }
   ],
   "source": [
    "# Dropping holiday for being insignificant as it has negative coefficient and high p-value\n",
    "colms = ['yr', 'workingday', 'temp', 'windspeed', 'season_spring',\n",
    "       'season_summer', 'season_winter', 'mnth_jul', 'mnth_sept', 'weekday_sat',\n",
    "       'weathersit_bad', 'weathersit_clear']\n",
    "build_model(colms)\n",
    "get_vif(colms)"
   ]
  },
  {
   "cell_type": "markdown",
   "id": "3d8e5337",
   "metadata": {},
   "source": [
    "## MODEL 5"
   ]
  },
  {
   "cell_type": "code",
   "execution_count": 115,
   "id": "487e2638",
   "metadata": {},
   "outputs": [
    {
     "name": "stdout",
     "output_type": "stream",
     "text": [
      "                            OLS Regression Results                            \n",
      "==============================================================================\n",
      "Dep. Variable:                    cnt   R-squared:                       0.822\n",
      "Model:                            OLS   Adj. R-squared:                  0.818\n",
      "Method:                 Least Squares   F-statistic:                     209.0\n",
      "Date:                Mon, 11 Apr 2022   Prob (F-statistic):          8.20e-179\n",
      "Time:                        14:10:58   Log-Likelihood:                -4152.2\n",
      "No. Observations:                 511   AIC:                             8328.\n",
      "Df Residuals:                     499   BIC:                             8379.\n",
      "Df Model:                          11                                         \n",
      "Covariance Type:            nonrobust                                         \n",
      "====================================================================================\n",
      "                       coef    std err          t      P>|t|      [0.025      0.975]\n",
      "------------------------------------------------------------------------------------\n",
      "const             1109.4321    290.560      3.818      0.000     538.560    1680.304\n",
      "yr                1992.6143     73.763     27.014      0.000    1847.691    2137.538\n",
      "workingday         -74.8818    102.231     -0.732      0.464    -275.739     125.975\n",
      "temp              3958.5476    297.164     13.321      0.000    3374.701    4542.395\n",
      "windspeed         -779.1681    206.959     -3.765      0.000   -1185.786    -372.550\n",
      "season_spring     -778.9193    189.094     -4.119      0.000   -1150.438    -407.400\n",
      "season_summer      491.7101    122.353      4.019      0.000     251.320     732.100\n",
      "season_winter      798.5462    146.233      5.461      0.000     511.238    1085.855\n",
      "mnth_sept          715.4337    138.024      5.183      0.000     444.253     986.614\n",
      "weekday_sat        106.3578    133.961      0.794      0.428    -156.840     369.555\n",
      "weathersit_bad   -1491.0704    226.343     -6.588      0.000   -1935.773   -1046.368\n",
      "weathersit_clear   669.8623     78.249      8.561      0.000     516.125     823.600\n",
      "==============================================================================\n",
      "Omnibus:                       70.746   Durbin-Watson:                   2.113\n",
      "Prob(Omnibus):                  0.000   Jarque-Bera (JB):              130.655\n",
      "Skew:                          -0.816   Prob(JB):                     4.25e-29\n",
      "Kurtosis:                       4.864   Cond. No.                         21.2\n",
      "==============================================================================\n",
      "\n",
      "Notes:\n",
      "[1] Standard Errors assume that the covariance matrix of the errors is correctly specified.\n",
      "            Features   VIF\n",
      "2               temp  6.86\n",
      "3          windspeed  5.70\n",
      "1         workingday  5.03\n",
      "10  weathersit_clear  2.77\n",
      "4      season_spring  2.42\n",
      "0                 yr  2.09\n",
      "5      season_summer  2.06\n",
      "6      season_winter  1.83\n",
      "8        weekday_sat  1.83\n",
      "7          mnth_sept  1.24\n",
      "9     weathersit_bad  1.12\n"
     ]
    }
   ],
   "source": [
    "# Dropping mnth_jul for being insignificant as it has negative coefficient and high p-value\n",
    "colms = ['yr', 'workingday', 'temp', 'windspeed', 'season_spring',\n",
    "       'season_summer', 'season_winter', 'mnth_sept', 'weekday_sat',\n",
    "       'weathersit_bad', 'weathersit_clear']\n",
    "build_model(colms)\n",
    "get_vif(colms)"
   ]
  },
  {
   "cell_type": "markdown",
   "id": "ba4c6045",
   "metadata": {},
   "source": [
    "## MODEL 6"
   ]
  },
  {
   "cell_type": "code",
   "execution_count": 116,
   "id": "56cb3c39",
   "metadata": {},
   "outputs": [
    {
     "name": "stdout",
     "output_type": "stream",
     "text": [
      "                            OLS Regression Results                            \n",
      "==============================================================================\n",
      "Dep. Variable:                    cnt   R-squared:                       0.816\n",
      "Model:                            OLS   Adj. R-squared:                  0.812\n",
      "Method:                 Least Squares   F-statistic:                     246.5\n",
      "Date:                Mon, 11 Apr 2022   Prob (F-statistic):          9.73e-178\n",
      "Time:                        14:17:29   Log-Likelihood:                -4160.4\n",
      "No. Observations:                 511   AIC:                             8341.\n",
      "Df Residuals:                     501   BIC:                             8383.\n",
      "Df Model:                           9                                         \n",
      "Covariance Type:            nonrobust                                         \n",
      "====================================================================================\n",
      "                       coef    std err          t      P>|t|      [0.025      0.975]\n",
      "------------------------------------------------------------------------------------\n",
      "const             1078.3474    206.731      5.216      0.000     672.181    1484.513\n",
      "yr                1994.6796     74.789     26.671      0.000    1847.740    2141.619\n",
      "temp              3984.2556    286.305     13.916      0.000    3421.749    4546.762\n",
      "season_spring    -1167.7009    145.664     -8.016      0.000   -1453.888    -881.514\n",
      "mnth_jul          -514.6318    148.396     -3.468      0.001    -806.187    -223.077\n",
      "season_winter      496.7543    111.027      4.474      0.000     278.618     714.891\n",
      "mnth_sept          465.9273    136.312      3.418      0.001     198.115     733.740\n",
      "weekday_sun        190.3752    109.596      1.737      0.083     -24.949     405.699\n",
      "weathersit_bad   -1593.7150    227.616     -7.002      0.000   -2040.914   -1146.516\n",
      "weathersit_clear   662.3899     79.266      8.357      0.000     506.655     818.125\n",
      "==============================================================================\n",
      "Omnibus:                       69.811   Durbin-Watson:                   2.162\n",
      "Prob(Omnibus):                  0.000   Jarque-Bera (JB):              135.943\n",
      "Skew:                          -0.786   Prob(JB):                     3.02e-30\n",
      "Kurtosis:                       4.978   Cond. No.                         15.0\n",
      "==============================================================================\n",
      "\n",
      "Notes:\n",
      "[1] Standard Errors assume that the covariance matrix of the errors is correctly specified.\n",
      "           Features   VIF\n",
      "1              temp  3.89\n",
      "8  weathersit_clear  2.72\n",
      "0                yr  2.07\n",
      "3          mnth_jul  1.38\n",
      "2     season_spring  1.36\n",
      "4     season_winter  1.36\n",
      "5         mnth_sept  1.20\n",
      "6       weekday_sun  1.15\n",
      "7    weathersit_bad  1.07\n"
     ]
    }
   ],
   "source": [
    "# removing all insignificant columns and building final model for interpretation\n",
    "colms = ['yr', 'temp', 'season_spring', 'mnth_jul',\n",
    "        'season_winter', 'mnth_sept', 'weekday_sun',\n",
    "       'weathersit_bad', 'weathersit_clear']\n",
    "\n",
    "build_model(colms)\n",
    "get_vif(colms)"
   ]
  },
  {
   "cell_type": "markdown",
   "id": "a79f848f",
   "metadata": {},
   "source": [
    "# Error Terms"
   ]
  },
  {
   "cell_type": "code",
   "execution_count": 122,
   "id": "1158db5f",
   "metadata": {},
   "outputs": [],
   "source": [
    "def plot_res_dist(act, pred):\n",
    "    sns.distplot(act-pred)\n",
    "    plt.title('Error Terms')\n",
    "    plt.xlabel('Errors')"
   ]
  },
  {
   "cell_type": "code",
   "execution_count": 125,
   "id": "3e63e17b",
   "metadata": {},
   "outputs": [],
   "source": [
    "def build_model_sk(X,y):\n",
    "    lr1 = LinearRegression()\n",
    "    lr1.fit(X,y)\n",
    "    return lr1"
   ]
  },
  {
   "cell_type": "code",
   "execution_count": 126,
   "id": "b32bbad1",
   "metadata": {},
   "outputs": [
    {
     "name": "stdout",
     "output_type": "stream",
     "text": [
      "1078.347379599997 [ 1994.67955569  3984.25555511 -1167.70089558  -514.63181313\n",
      "   496.75430396   465.92729708   190.37518346 -1593.71496239\n",
      "   662.38986442]\n"
     ]
    }
   ],
   "source": [
    "colms = ['yr', 'temp','season_spring', 'mnth_jul',\n",
    "        'season_winter', 'mnth_sept', 'weekday_sun',\n",
    "       'weathersit_bad', 'weathersit_clear']\n",
    "\n",
    "#Build a model with above columns\n",
    "lr = build_model_sk(X_train[colms],y_train)\n",
    "print(lr.intercept_,lr.coef_)"
   ]
  },
  {
   "cell_type": "code",
   "execution_count": 128,
   "id": "4d30ebea",
   "metadata": {},
   "outputs": [],
   "source": [
    "y_train_pred = lr.predict(X_train[colms])"
   ]
  },
  {
   "cell_type": "code",
   "execution_count": 129,
   "id": "a99dfb3c",
   "metadata": {},
   "outputs": [
    {
     "data": {
      "image/png": "[encoded data removed]",
      "text/plain": [
       "<Figure size 432x288 with 1 Axes>"
      ]
     },
     "metadata": {
      "needs_background": "light"
     },
     "output_type": "display_data"
    }
   ],
   "source": [
    "#Plot a histogram of the error terms\n",
    "plot_res_dist(y_train, y_train_pred)"
   ]
  },
  {
   "cell_type": "markdown",
   "id": "dca86848",
   "metadata": {},
   "source": [
    "# Model Interpretation"
   ]
  },
  {
   "cell_type": "code",
   "execution_count": 119,
   "id": "51307297",
   "metadata": {},
   "outputs": [
    {
     "name": "stdout",
     "output_type": "stream",
     "text": [
      "                            OLS Regression Results                            \n",
      "==============================================================================\n",
      "Dep. Variable:                    cnt   R-squared:                       0.816\n",
      "Model:                            OLS   Adj. R-squared:                  0.812\n",
      "Method:                 Least Squares   F-statistic:                     246.5\n",
      "Date:                Mon, 11 Apr 2022   Prob (F-statistic):          9.73e-178\n",
      "Time:                        14:26:26   Log-Likelihood:                -4160.4\n",
      "No. Observations:                 511   AIC:                             8341.\n",
      "Df Residuals:                     501   BIC:                             8383.\n",
      "Df Model:                           9                                         \n",
      "Covariance Type:            nonrobust                                         \n",
      "====================================================================================\n",
      "                       coef    std err          t      P>|t|      [0.025      0.975]\n",
      "------------------------------------------------------------------------------------\n",
      "const             1078.3474    206.731      5.216      0.000     672.181    1484.513\n",
      "yr                1994.6796     74.789     26.671      0.000    1847.740    2141.619\n",
      "temp              3984.2556    286.305     13.916      0.000    3421.749    4546.762\n",
      "season_spring    -1167.7009    145.664     -8.016      0.000   -1453.888    -881.514\n",
      "mnth_jul          -514.6318    148.396     -3.468      0.001    -806.187    -223.077\n",
      "season_winter      496.7543    111.027      4.474      0.000     278.618     714.891\n",
      "mnth_sept          465.9273    136.312      3.418      0.001     198.115     733.740\n",
      "weekday_sun        190.3752    109.596      1.737      0.083     -24.949     405.699\n",
      "weathersit_bad   -1593.7150    227.616     -7.002      0.000   -2040.914   -1146.516\n",
      "weathersit_clear   662.3899     79.266      8.357      0.000     506.655     818.125\n",
      "==============================================================================\n",
      "Omnibus:                       69.811   Durbin-Watson:                   2.162\n",
      "Prob(Omnibus):                  0.000   Jarque-Bera (JB):              135.943\n",
      "Skew:                          -0.786   Prob(JB):                     3.02e-30\n",
      "Kurtosis:                       4.978   Cond. No.                         15.0\n",
      "==============================================================================\n",
      "\n",
      "Notes:\n",
      "[1] Standard Errors assume that the covariance matrix of the errors is correctly specified.\n"
     ]
    }
   ],
   "source": [
    "# using final model to interpret it\n",
    "colms = ['yr', 'temp', 'season_spring', 'mnth_jul',\n",
    "        'season_winter', 'mnth_sept', 'weekday_sun',\n",
    "       'weathersit_bad', 'weathersit_clear']\n",
    "\n",
    "lm = build_model(colms)"
   ]
  },
  {
   "cell_type": "markdown",
   "id": "c5dafc40",
   "metadata": {},
   "source": [
    "# Conclusion"
   ]
  },
  {
   "cell_type": "markdown",
   "id": "1fc895cd",
   "metadata": {},
   "source": [
    "#### Company should focus on month of sept in spring season for increasing sales\n",
    "#### Rainy weather decreses sales potential\n",
    "#### Sunday is a better weakday day of sales thus a litte increase in demand can be seen especially in month of september"
   ]
  },
  {
   "cell_type": "markdown",
   "id": "b9f5e203",
   "metadata": {},
   "source": [
    "#### Final variables to predict the demand of shared bikes are :\n",
    "#### 'yr',\n",
    "#### 'temp',\n",
    "#### 'season_spring',\n",
    "#### 'mnth_jul',\n",
    "#### 'season_winter', \n",
    "#### 'mnth_sept', \n",
    "#### 'weekday_sun',\n",
    "#### 'weathersit_bad',\n",
    "#### 'weathersit_clear'"
   ]
  },
  {
   "cell_type": "code",
   "execution_count": null,
   "id": "5a3cb9d8",
   "metadata": {},
   "outputs": [],
   "source": []
  }
 ],
 "metadata": {
  "kernelspec": {
   "display_name": "Python 3 (ipykernel)",
   "language": "python",
   "name": "python3"
  },
  "language_info": {
   "codemirror_mode": {
    "name": "ipython",
    "version": 3
   },
   "file_extension": ".py",
   "mimetype": "text/x-python",
   "name": "python",
   "nbconvert_exporter": "python",
   "pygments_lexer": "ipython3",
   "version": "3.9.7"
  }
 },
 "nbformat": 4,
 "nbformat_minor": 5
}
